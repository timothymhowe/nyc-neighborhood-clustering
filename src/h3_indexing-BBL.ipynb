{
 "cells": [
  {
   "cell_type": "code",
   "execution_count": 1,
   "id": "37d2b8a7-c343-47a0-99cd-833763eb8ece",
   "metadata": {},
   "outputs": [],
   "source": [
    "import pandas as pd\n",
    "import geopandas as gpd\n",
    "import h3pandas\n",
    "import numpy as np\n",
    "import shapely\n",
    "import json\n"
   ]
  },
  {
   "cell_type": "code",
   "execution_count": 2,
   "id": "2dbfb42c-27b8-425b-8343-58c3693deb09",
   "metadata": {},
   "outputs": [],
   "source": [
    "\"\"\"\n",
    "This cell is only for cleaning data, \n",
    "leave commented out unless you don't already have the clean data.\n",
    "\"\"\"\n",
    "\n",
    "# # load raw data from file\n",
    "# cblocks = gpd.read_file('../data/raw/census_blocks.csv')\n",
    "\n",
    "# # renames first column to correct geopandas format\n",
    "# cblocks.columns = ['geometry', 'CB2020', 'BoroCode', 'BoroName', 'CT2020', 'BCTCB2020',\n",
    "#        'GEOID', 'Shape_Leng', 'Shape_Area']\n",
    "    \n",
    "# # dictionary of each borocode\n",
    "# boro_dict = {2:'bronx', 3:'brooklyn', 1:'manhattan', 4:'queens', 5:'staten'}\n",
    "\n",
    "# # writes each borough to its own file\n",
    "# for boro_code in range(1,6):\n",
    "#     cblocks[cblocks[\"BoroCode\"]== str(boro_code)].to_csv(f\"../data/clean/census_blocks/{boro_dict[boro_code]}.csv\",index=False)\n",
    "    \n",
    "# df = pd.read_csv('../data/raw/pluto_22v1.csv',low_memory =False)\n",
    "\n",
    "gdf_in = gpd.read_file(\"/home/thowe/Downloads/nyc_mappluto_22v1_shp/MapPLUTO.shp\")\n"
   ]
  },
  {
   "cell_type": "code",
   "execution_count": 3,
   "id": "31c969c8-b49f-408f-b98a-671c719ce823",
   "metadata": {},
   "outputs": [],
   "source": [
    "initial_resolution = 8\n",
    "parent_resolution = 10"
   ]
  },
  {
   "cell_type": "code",
   "execution_count": 4,
   "id": "c52b4ae9-bfde-4bf2-823c-4eb9f8bae117",
   "metadata": {},
   "outputs": [],
   "source": [
    "# len(gdf['BBL']) - len(set(gdf['BBL'])) \n",
    "# len(set(df['bbl']))\n",
    "gdf = gdf_in\n",
    "# gdf['Latitude'].isna().sum()"
   ]
  },
  {
   "cell_type": "code",
   "execution_count": 6,
   "id": "0ddf4c0e-e165-401e-8a94-82503b09475a",
   "metadata": {},
   "outputs": [],
   "source": [
    "gdf = gdf.dropna(subset='BCTCB2020')\n",
    "gdf['BCTCB2020'] = gdf['BCTCB2020'].astype(int)\n",
    "gdf['BBL'] = gdf['BBL'].astype(int)"
   ]
  },
  {
   "cell_type": "code",
   "execution_count": 7,
   "id": "e9bd7d19-40cc-44c8-ae16-e4b412ff5f44",
   "metadata": {},
   "outputs": [
    {
     "data": {
      "text/html": [
       "<div>\n",
       "<style scoped>\n",
       "    .dataframe tbody tr th:only-of-type {\n",
       "        vertical-align: middle;\n",
       "    }\n",
       "\n",
       "    .dataframe tbody tr th {\n",
       "        vertical-align: top;\n",
       "    }\n",
       "\n",
       "    .dataframe thead th {\n",
       "        text-align: right;\n",
       "    }\n",
       "</style>\n",
       "<table border=\"1\" class=\"dataframe\">\n",
       "  <thead>\n",
       "    <tr style=\"text-align: right;\">\n",
       "      <th></th>\n",
       "      <th>BBL</th>\n",
       "      <th>BCTCB2020</th>\n",
       "      <th>lat</th>\n",
       "      <th>lon</th>\n",
       "    </tr>\n",
       "  </thead>\n",
       "  <tbody>\n",
       "    <tr>\n",
       "      <th>2</th>\n",
       "      <td>1000020002</td>\n",
       "      <td>10009001022</td>\n",
       "      <td>40.700550</td>\n",
       "      <td>-74.011588</td>\n",
       "    </tr>\n",
       "    <tr>\n",
       "      <th>3</th>\n",
       "      <td>1000030001</td>\n",
       "      <td>10013002002</td>\n",
       "      <td>40.702806</td>\n",
       "      <td>-74.015631</td>\n",
       "    </tr>\n",
       "    <tr>\n",
       "      <th>4</th>\n",
       "      <td>1000030010</td>\n",
       "      <td>10319001006</td>\n",
       "      <td>40.700918</td>\n",
       "      <td>-74.014444</td>\n",
       "    </tr>\n",
       "    <tr>\n",
       "      <th>5</th>\n",
       "      <td>1000050010</td>\n",
       "      <td>10009001014</td>\n",
       "      <td>40.702776</td>\n",
       "      <td>-74.010722</td>\n",
       "    </tr>\n",
       "    <tr>\n",
       "      <th>6</th>\n",
       "      <td>1000070027</td>\n",
       "      <td>10009001015</td>\n",
       "      <td>40.703289</td>\n",
       "      <td>-74.011022</td>\n",
       "    </tr>\n",
       "    <tr>\n",
       "      <th>...</th>\n",
       "      <td>...</td>\n",
       "      <td>...</td>\n",
       "      <td>...</td>\n",
       "      <td>...</td>\n",
       "    </tr>\n",
       "    <tr>\n",
       "      <th>857001</th>\n",
       "      <td>5080500037</td>\n",
       "      <td>50248001014</td>\n",
       "      <td>40.507801</td>\n",
       "      <td>-74.251802</td>\n",
       "    </tr>\n",
       "    <tr>\n",
       "      <th>857002</th>\n",
       "      <td>5080500062</td>\n",
       "      <td>50248001014</td>\n",
       "      <td>40.508640</td>\n",
       "      <td>-74.250938</td>\n",
       "    </tr>\n",
       "    <tr>\n",
       "      <th>857003</th>\n",
       "      <td>5080500065</td>\n",
       "      <td>50248001014</td>\n",
       "      <td>40.508783</td>\n",
       "      <td>-74.250856</td>\n",
       "    </tr>\n",
       "    <tr>\n",
       "      <th>857004</th>\n",
       "      <td>5080500092</td>\n",
       "      <td>50248001014</td>\n",
       "      <td>40.508794</td>\n",
       "      <td>-74.249856</td>\n",
       "    </tr>\n",
       "    <tr>\n",
       "      <th>857005</th>\n",
       "      <td>5080500094</td>\n",
       "      <td>50248001014</td>\n",
       "      <td>40.508701</td>\n",
       "      <td>-74.249673</td>\n",
       "    </tr>\n",
       "  </tbody>\n",
       "</table>\n",
       "<p>834973 rows × 4 columns</p>\n",
       "</div>"
      ],
      "text/plain": [
       "               BBL    BCTCB2020        lat        lon\n",
       "2       1000020002  10009001022  40.700550 -74.011588\n",
       "3       1000030001  10013002002  40.702806 -74.015631\n",
       "4       1000030010  10319001006  40.700918 -74.014444\n",
       "5       1000050010  10009001014  40.702776 -74.010722\n",
       "6       1000070027  10009001015  40.703289 -74.011022\n",
       "...            ...          ...        ...        ...\n",
       "857001  5080500037  50248001014  40.507801 -74.251802\n",
       "857002  5080500062  50248001014  40.508640 -74.250938\n",
       "857003  5080500065  50248001014  40.508783 -74.250856\n",
       "857004  5080500092  50248001014  40.508794 -74.249856\n",
       "857005  5080500094  50248001014  40.508701 -74.249673\n",
       "\n",
       "[834973 rows x 4 columns]"
      ]
     },
     "execution_count": 7,
     "metadata": {},
     "output_type": "execute_result"
    }
   ],
   "source": [
    "h3_df = gdf[['BBL','BCTCB2020','Latitude','Longitude']]\n",
    "h3_df = h3_df.rename({'Latitude':'lat','Longitude':'lon'},axis=1)\n",
    "\n",
    "h3_df"
   ]
  },
  {
   "cell_type": "code",
   "execution_count": 9,
   "id": "85edcb35-18fb-4876-b5eb-a7ec75fbae43",
   "metadata": {},
   "outputs": [],
   "source": [
    "h3_df = h3_df.h3.geo_to_h3(parent_resolution,lat_col='lat',lng_col='lon')\n",
    "out_df = h3_df.reset_index().set_index('BBL')[['h3_10']]\n",
    "len(set(out_df.index)) - len(out_df.index)\n",
    "out_df.to_json('../data/clean/bbl_to_h3.json', orient='index')"
   ]
  },
  {
   "cell_type": "code",
   "execution_count": 12,
   "id": "2acabc44-2001-428d-977b-41853e2f4b30",
   "metadata": {},
   "outputs": [],
   "source": [
    "out = gdf_in.merge(out_df,on='BBL')"
   ]
  },
  {
   "cell_type": "code",
   "execution_count": 14,
   "id": "e6f6941f-e23e-43f2-a2eb-d50e22b82283",
   "metadata": {},
   "outputs": [],
   "source": [
    "out.to_csv('../data/clean/h3_PLUTO.csv')"
   ]
  },
  {
   "cell_type": "code",
   "execution_count": null,
   "id": "940a3639-ea74-4190-83de-5ffdee05242e",
   "metadata": {},
   "outputs": [],
   "source": []
  }
 ],
 "metadata": {
  "kernelspec": {
   "display_name": "Mountain Brews v1.1",
   "language": "python",
   "name": "plz-gpu"
  },
  "language_info": {
   "codemirror_mode": {
    "name": "ipython",
    "version": 3
   },
   "file_extension": ".py",
   "mimetype": "text/x-python",
   "name": "python",
   "nbconvert_exporter": "python",
   "pygments_lexer": "ipython3",
   "version": "3.8.13"
  }
 },
 "nbformat": 4,
 "nbformat_minor": 5
}
