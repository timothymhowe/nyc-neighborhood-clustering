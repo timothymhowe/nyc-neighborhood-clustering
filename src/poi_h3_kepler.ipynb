{
 "cells": [
  {
   "cell_type": "code",
   "execution_count": 4,
   "id": "5beb8abe-8d71-4b45-bcad-ff1a46df636f",
   "metadata": {
    "pycharm": {
     "name": "#%%\n"
    }
   },
   "outputs": [],
   "source": [
    "import pandas as pd\n",
    "import geopandas as gpd\n",
    "\n",
    "from shapely import wkt\n"
   ]
  },
  {
   "cell_type": "code",
   "execution_count": 3,
   "id": "78e97ba6-d9b8-4576-8492-b301708dbae1",
   "metadata": {
    "pycharm": {
     "name": "#%%\n"
    }
   },
   "outputs": [],
   "source": [
    "df = pd.read_csv('../data/clean/h3_PLUTO.csv', low_memory=False)\n"
   ]
  },
  {
   "cell_type": "code",
   "execution_count": 4,
   "id": "b7274c69-649c-4365-9d7a-e08ae8c8693a",
   "metadata": {
    "pycharm": {
     "name": "#%%\n"
    }
   },
   "outputs": [],
   "source": [
    "gdf = gpd.GeoDataFrame(df)"
   ]
  },
  {
   "cell_type": "code",
   "execution_count": 5,
   "id": "d3bdddff-4927-4760-9a3b-345ab2da9829",
   "metadata": {
    "pycharm": {
     "name": "#%%\n"
    }
   },
   "outputs": [],
   "source": [
    "poi_df = pd.read_csv('../data/raw/points_of_interest.csv')\n",
    "bbl_to_h3 = pd.read_json('../data/clean//bbl_to_h3.json', orient='index')\n",
    "\n"
   ]
  },
  {
   "cell_type": "code",
   "execution_count": 6,
   "id": "8cb12d76-d6fe-45a0-8b19-54b5ea7881f4",
   "metadata": {
    "pycharm": {
     "name": "#%%\n"
    }
   },
   "outputs": [
    {
     "ename": "TypeError",
     "evalue": "Only str is accepted.",
     "output_type": "error",
     "traceback": [
      "\u001b[0;31m---------------------------------------------------------------------------\u001b[0m",
      "\u001b[0;31mTypeError\u001b[0m                                 Traceback (most recent call last)",
      "\u001b[0;32m<ipython-input-7-36b138ea25ca>\u001b[0m in \u001b[0;36m<module>\u001b[0;34m\u001b[0m\n\u001b[1;32m      1\u001b[0m \u001b[0mpoi_df\u001b[0m \u001b[0;34m=\u001b[0m \u001b[0mpoi_df\u001b[0m\u001b[0;34m.\u001b[0m\u001b[0mrename\u001b[0m\u001b[0;34m(\u001b[0m\u001b[0;34m{\u001b[0m\u001b[0;34m'the_geom'\u001b[0m\u001b[0;34m:\u001b[0m\u001b[0;34m'geometry'\u001b[0m\u001b[0;34m}\u001b[0m\u001b[0;34m,\u001b[0m\u001b[0maxis\u001b[0m\u001b[0;34m=\u001b[0m\u001b[0;36m1\u001b[0m\u001b[0;34m)\u001b[0m\u001b[0;34m\u001b[0m\u001b[0;34m\u001b[0m\u001b[0m\n\u001b[0;32m----> 2\u001b[0;31m \u001b[0mpoi_df\u001b[0m\u001b[0;34m[\u001b[0m\u001b[0;34m'geometry'\u001b[0m\u001b[0;34m]\u001b[0m \u001b[0;34m=\u001b[0m \u001b[0mpoi_df\u001b[0m\u001b[0;34m[\u001b[0m\u001b[0;34m'geometry'\u001b[0m\u001b[0;34m]\u001b[0m\u001b[0;34m.\u001b[0m\u001b[0mapply\u001b[0m\u001b[0;34m(\u001b[0m\u001b[0mwkt\u001b[0m\u001b[0;34m.\u001b[0m\u001b[0mloads\u001b[0m\u001b[0;34m)\u001b[0m\u001b[0;34m\u001b[0m\u001b[0;34m\u001b[0m\u001b[0m\n\u001b[0m\u001b[1;32m      3\u001b[0m \u001b[0mpoi_gdf\u001b[0m \u001b[0;34m=\u001b[0m \u001b[0mgpd\u001b[0m\u001b[0;34m.\u001b[0m\u001b[0mGeoDataFrame\u001b[0m\u001b[0;34m(\u001b[0m\u001b[0mpoi_df\u001b[0m\u001b[0;34m)\u001b[0m\u001b[0;34m\u001b[0m\u001b[0;34m\u001b[0m\u001b[0m\n",
      "\u001b[0;32m~/anaconda3/envs/plz-gpu/lib/python3.8/site-packages/pandas/core/series.py\u001b[0m in \u001b[0;36mapply\u001b[0;34m(self, func, convert_dtype, args, **kwargs)\u001b[0m\n\u001b[1;32m   4431\u001b[0m         \u001b[0mdtype\u001b[0m\u001b[0;34m:\u001b[0m \u001b[0mfloat64\u001b[0m\u001b[0;34m\u001b[0m\u001b[0;34m\u001b[0m\u001b[0m\n\u001b[1;32m   4432\u001b[0m         \"\"\"\n\u001b[0;32m-> 4433\u001b[0;31m         \u001b[0;32mreturn\u001b[0m \u001b[0mSeriesApply\u001b[0m\u001b[0;34m(\u001b[0m\u001b[0mself\u001b[0m\u001b[0;34m,\u001b[0m \u001b[0mfunc\u001b[0m\u001b[0;34m,\u001b[0m \u001b[0mconvert_dtype\u001b[0m\u001b[0;34m,\u001b[0m \u001b[0margs\u001b[0m\u001b[0;34m,\u001b[0m \u001b[0mkwargs\u001b[0m\u001b[0;34m)\u001b[0m\u001b[0;34m.\u001b[0m\u001b[0mapply\u001b[0m\u001b[0;34m(\u001b[0m\u001b[0;34m)\u001b[0m\u001b[0;34m\u001b[0m\u001b[0;34m\u001b[0m\u001b[0m\n\u001b[0m\u001b[1;32m   4434\u001b[0m \u001b[0;34m\u001b[0m\u001b[0m\n\u001b[1;32m   4435\u001b[0m     def _reduce(\n",
      "\u001b[0;32m~/anaconda3/envs/plz-gpu/lib/python3.8/site-packages/pandas/core/apply.py\u001b[0m in \u001b[0;36mapply\u001b[0;34m(self)\u001b[0m\n\u001b[1;32m   1080\u001b[0m             \u001b[0;32mreturn\u001b[0m \u001b[0mself\u001b[0m\u001b[0;34m.\u001b[0m\u001b[0mapply_str\u001b[0m\u001b[0;34m(\u001b[0m\u001b[0;34m)\u001b[0m\u001b[0;34m\u001b[0m\u001b[0;34m\u001b[0m\u001b[0m\n\u001b[1;32m   1081\u001b[0m \u001b[0;34m\u001b[0m\u001b[0m\n\u001b[0;32m-> 1082\u001b[0;31m         \u001b[0;32mreturn\u001b[0m \u001b[0mself\u001b[0m\u001b[0;34m.\u001b[0m\u001b[0mapply_standard\u001b[0m\u001b[0;34m(\u001b[0m\u001b[0;34m)\u001b[0m\u001b[0;34m\u001b[0m\u001b[0;34m\u001b[0m\u001b[0m\n\u001b[0m\u001b[1;32m   1083\u001b[0m \u001b[0;34m\u001b[0m\u001b[0m\n\u001b[1;32m   1084\u001b[0m     \u001b[0;32mdef\u001b[0m \u001b[0magg\u001b[0m\u001b[0;34m(\u001b[0m\u001b[0mself\u001b[0m\u001b[0;34m)\u001b[0m\u001b[0;34m:\u001b[0m\u001b[0;34m\u001b[0m\u001b[0;34m\u001b[0m\u001b[0m\n",
      "\u001b[0;32m~/anaconda3/envs/plz-gpu/lib/python3.8/site-packages/pandas/core/apply.py\u001b[0m in \u001b[0;36mapply_standard\u001b[0;34m(self)\u001b[0m\n\u001b[1;32m   1135\u001b[0m                 \u001b[0;31m# List[Union[Callable[..., Any], str]]]]]\"; expected\u001b[0m\u001b[0;34m\u001b[0m\u001b[0;34m\u001b[0m\u001b[0;34m\u001b[0m\u001b[0m\n\u001b[1;32m   1136\u001b[0m                 \u001b[0;31m# \"Callable[[Any], Any]\"\u001b[0m\u001b[0;34m\u001b[0m\u001b[0;34m\u001b[0m\u001b[0;34m\u001b[0m\u001b[0m\n\u001b[0;32m-> 1137\u001b[0;31m                 mapped = lib.map_infer(\n\u001b[0m\u001b[1;32m   1138\u001b[0m                     \u001b[0mvalues\u001b[0m\u001b[0;34m,\u001b[0m\u001b[0;34m\u001b[0m\u001b[0;34m\u001b[0m\u001b[0m\n\u001b[1;32m   1139\u001b[0m                     \u001b[0mf\u001b[0m\u001b[0;34m,\u001b[0m  \u001b[0;31m# type: ignore[arg-type]\u001b[0m\u001b[0;34m\u001b[0m\u001b[0;34m\u001b[0m\u001b[0m\n",
      "\u001b[0;32m~/anaconda3/envs/plz-gpu/lib/python3.8/site-packages/pandas/_libs/lib.pyx\u001b[0m in \u001b[0;36mpandas._libs.lib.map_infer\u001b[0;34m()\u001b[0m\n",
      "\u001b[0;32m~/anaconda3/envs/plz-gpu/lib/python3.8/site-packages/shapely/wkt.py\u001b[0m in \u001b[0;36mloads\u001b[0;34m(data)\u001b[0m\n\u001b[1;32m      8\u001b[0m \u001b[0;32mdef\u001b[0m \u001b[0mloads\u001b[0m\u001b[0;34m(\u001b[0m\u001b[0mdata\u001b[0m\u001b[0;34m)\u001b[0m\u001b[0;34m:\u001b[0m\u001b[0;34m\u001b[0m\u001b[0;34m\u001b[0m\u001b[0m\n\u001b[1;32m      9\u001b[0m     \u001b[0;34m\"\"\"Load a geometry from a WKT string.\"\"\"\u001b[0m\u001b[0;34m\u001b[0m\u001b[0;34m\u001b[0m\u001b[0m\n\u001b[0;32m---> 10\u001b[0;31m     \u001b[0;32mreturn\u001b[0m \u001b[0mgeos\u001b[0m\u001b[0;34m.\u001b[0m\u001b[0mWKTReader\u001b[0m\u001b[0;34m(\u001b[0m\u001b[0mgeos\u001b[0m\u001b[0;34m.\u001b[0m\u001b[0mlgeos\u001b[0m\u001b[0;34m)\u001b[0m\u001b[0;34m.\u001b[0m\u001b[0mread\u001b[0m\u001b[0;34m(\u001b[0m\u001b[0mdata\u001b[0m\u001b[0;34m)\u001b[0m\u001b[0;34m\u001b[0m\u001b[0;34m\u001b[0m\u001b[0m\n\u001b[0m\u001b[1;32m     11\u001b[0m \u001b[0;34m\u001b[0m\u001b[0m\n\u001b[1;32m     12\u001b[0m \u001b[0;32mdef\u001b[0m \u001b[0mload\u001b[0m\u001b[0;34m(\u001b[0m\u001b[0mfp\u001b[0m\u001b[0;34m)\u001b[0m\u001b[0;34m:\u001b[0m\u001b[0;34m\u001b[0m\u001b[0;34m\u001b[0m\u001b[0m\n",
      "\u001b[0;32m~/anaconda3/envs/plz-gpu/lib/python3.8/site-packages/shapely/geos.py\u001b[0m in \u001b[0;36mread\u001b[0;34m(self, text)\u001b[0m\n\u001b[1;32m    277\u001b[0m         \u001b[0;34m\"\"\"Returns geometry from WKT\"\"\"\u001b[0m\u001b[0;34m\u001b[0m\u001b[0;34m\u001b[0m\u001b[0m\n\u001b[1;32m    278\u001b[0m         \u001b[0;32mif\u001b[0m \u001b[0;32mnot\u001b[0m \u001b[0misinstance\u001b[0m\u001b[0;34m(\u001b[0m\u001b[0mtext\u001b[0m\u001b[0;34m,\u001b[0m \u001b[0mtext_types\u001b[0m\u001b[0;34m)\u001b[0m\u001b[0;34m:\u001b[0m\u001b[0;34m\u001b[0m\u001b[0;34m\u001b[0m\u001b[0m\n\u001b[0;32m--> 279\u001b[0;31m             \u001b[0;32mraise\u001b[0m \u001b[0mTypeError\u001b[0m\u001b[0;34m(\u001b[0m\u001b[0;34m\"Only str is accepted.\"\u001b[0m\u001b[0;34m)\u001b[0m\u001b[0;34m\u001b[0m\u001b[0;34m\u001b[0m\u001b[0m\n\u001b[0m\u001b[1;32m    280\u001b[0m         \u001b[0;32mif\u001b[0m \u001b[0msys\u001b[0m\u001b[0;34m.\u001b[0m\u001b[0mversion_info\u001b[0m\u001b[0;34m[\u001b[0m\u001b[0;36m0\u001b[0m\u001b[0;34m]\u001b[0m \u001b[0;34m>=\u001b[0m \u001b[0;36m3\u001b[0m\u001b[0;34m:\u001b[0m\u001b[0;34m\u001b[0m\u001b[0;34m\u001b[0m\u001b[0m\n\u001b[1;32m    281\u001b[0m             \u001b[0mtext\u001b[0m \u001b[0;34m=\u001b[0m \u001b[0mtext\u001b[0m\u001b[0;34m.\u001b[0m\u001b[0mencode\u001b[0m\u001b[0;34m(\u001b[0m\u001b[0;34m)\u001b[0m\u001b[0;34m\u001b[0m\u001b[0;34m\u001b[0m\u001b[0m\n",
      "\u001b[0;31mTypeError\u001b[0m: Only str is accepted."
     ]
    }
   ],
   "source": [
    "poi_df = poi_df.rename({'the_geom': 'geometry'}, axis=1)\n",
    "poi_df['geometry'] = poi_df['geometry'].apply(wkt.loads)\n",
    "poi_gdf = gpd.GeoDataFrame(poi_df, crs='epsg:4326')"
   ]
  },
  {
   "cell_type": "code",
   "execution_count": 8,
   "id": "2e36eb1b-ce74-456f-b231-2bdd19282f19",
   "metadata": {
    "pycharm": {
     "name": "#%%\n"
    }
   },
   "outputs": [
    {
     "ename": "NameError",
     "evalue": "name 'poi_gdf' is not defined",
     "output_type": "error",
     "traceback": [
      "\u001b[0;31m---------------------------------------------------------------------------\u001b[0m",
      "\u001b[0;31mNameError\u001b[0m                                 Traceback (most recent call last)",
      "\u001b[0;32m<ipython-input-8-bc7e0d55f108>\u001b[0m in \u001b[0;36m<module>\u001b[0;34m\u001b[0m\n\u001b[0;32m----> 1\u001b[0;31m \u001b[0mpoi_h3\u001b[0m \u001b[0;34m=\u001b[0m \u001b[0mpoi_gdf\u001b[0m\u001b[0;34m.\u001b[0m\u001b[0mh3\u001b[0m\u001b[0;34m.\u001b[0m\u001b[0mgeo_to_h3\u001b[0m\u001b[0;34m(\u001b[0m\u001b[0;36m10\u001b[0m\u001b[0;34m)\u001b[0m\u001b[0;34m\u001b[0m\u001b[0;34m\u001b[0m\u001b[0m\n\u001b[0m\u001b[1;32m      2\u001b[0m \u001b[0;34m\u001b[0m\u001b[0m\n\u001b[1;32m      3\u001b[0m \u001b[0mpoi_h3\u001b[0m\u001b[0;34m.\u001b[0m\u001b[0mto_csv\u001b[0m\u001b[0;34m(\u001b[0m\u001b[0;34m'../data/clean/poi_h3.csv'\u001b[0m\u001b[0;34m)\u001b[0m\u001b[0;34m\u001b[0m\u001b[0;34m\u001b[0m\u001b[0m\n",
      "\u001b[0;31mNameError\u001b[0m: name 'poi_gdf' is not defined"
     ]
    }
   ],
   "source": [
    "poi_h3 = poi_gdf.h3.geo_to_h3(10)\n",
    "\n",
    "poi_h3.to_csv('../data/clean/poi_h3.csv')"
   ]
  },
  {
   "cell_type": "code",
   "execution_count": 5,
   "id": "c0a198a0-efea-4977-9f0d-74c99fad863b",
   "metadata": {
    "pycharm": {
     "name": "#%%\n"
    }
   },
   "outputs": [],
   "source": [
    "poi_h3 = gpd.read_file('../data/clean/poi_h3.csv')"
   ]
  },
  {
   "cell_type": "code",
   "execution_count": 6,
   "id": "f781057a-aebf-45aa-a41e-648afb0045d1",
   "metadata": {
    "pycharm": {
     "name": "#%%\n"
    }
   },
   "outputs": [],
   "source": [
    "poi_hex_df = pd.DataFrame()\n",
    "poi_hex_df['NAME'] = poi_h3.groupby('h3_10').agg(list)['NAME']\n",
    "# poi_hexes.rename(['h3_10','NAME'],axis=1)\n",
    "# poi_hexes['COUNT'] = len(poi_hexes['NAME'])\n",
    "\n"
   ]
  },
  {
   "cell_type": "code",
   "execution_count": 7,
   "id": "198a8967-1dbc-4798-ae96-16014e38bbca",
   "metadata": {
    "pycharm": {
     "name": "#%%\n"
    }
   },
   "outputs": [
    {
     "data": {
      "text/html": [
       "<div>\n",
       "<style scoped>\n",
       "    .dataframe tbody tr th:only-of-type {\n",
       "        vertical-align: middle;\n",
       "    }\n",
       "\n",
       "    .dataframe tbody tr th {\n",
       "        vertical-align: top;\n",
       "    }\n",
       "\n",
       "    .dataframe thead th {\n",
       "        text-align: right;\n",
       "    }\n",
       "</style>\n",
       "<table border=\"1\" class=\"dataframe\">\n",
       "  <thead>\n",
       "    <tr style=\"text-align: right;\">\n",
       "      <th></th>\n",
       "      <th>NAME</th>\n",
       "      <th>COUNT</th>\n",
       "    </tr>\n",
       "    <tr>\n",
       "      <th>h3_10</th>\n",
       "      <th></th>\n",
       "      <th></th>\n",
       "    </tr>\n",
       "  </thead>\n",
       "  <tbody>\n",
       "    <tr>\n",
       "      <th>8a2a1000005ffff</th>\n",
       "      <td>[RAT ISLAND]</td>\n",
       "      <td>1</td>\n",
       "    </tr>\n",
       "    <tr>\n",
       "      <th>8a2a100f3a87fff</th>\n",
       "      <td>[BRIGHT BEGINNINGS 30 AV]</td>\n",
       "      <td>1</td>\n",
       "    </tr>\n",
       "    <tr>\n",
       "      <th>8a2a100f3b47fff</th>\n",
       "      <td>[I-278 BQE EAST LEG OVER 30 AVE]</td>\n",
       "      <td>1</td>\n",
       "    </tr>\n",
       "    <tr>\n",
       "      <th>8a2a100f3b5ffff</th>\n",
       "      <td>[ST MICHAELS PLAYGROUND SOCCER FIELD]</td>\n",
       "      <td>1</td>\n",
       "    </tr>\n",
       "    <tr>\n",
       "      <th>8a2a100f3baffff</th>\n",
       "      <td>[BULOVA AVENUE OV I-278 BQE W LEG]</td>\n",
       "      <td>1</td>\n",
       "    </tr>\n",
       "    <tr>\n",
       "      <th>...</th>\n",
       "      <td>...</td>\n",
       "      <td>...</td>\n",
       "    </tr>\n",
       "    <tr>\n",
       "      <th>8a2a100d622ffff</th>\n",
       "      <td>[ESTONIA CONSULATE, MONTESSORI FAMILY SCHOOL, ...</td>\n",
       "      <td>16</td>\n",
       "    </tr>\n",
       "    <tr>\n",
       "      <th>8a2a100d62e7fff</th>\n",
       "      <td>[NICARAGUA CONSULAT, SYRIA CONSULATE, NEPAL MI...</td>\n",
       "      <td>20</td>\n",
       "    </tr>\n",
       "    <tr>\n",
       "      <th>8a2a100d9167fff</th>\n",
       "      <td>[HOWARD-PARK HOUSES, HOWARD AVENUE PARK PLACE ...</td>\n",
       "      <td>22</td>\n",
       "    </tr>\n",
       "    <tr>\n",
       "      <th>8a2a100d62effff</th>\n",
       "      <td>[GUINEA BISSAU MISSION TO UN, ERITREA MISSION ...</td>\n",
       "      <td>22</td>\n",
       "    </tr>\n",
       "    <tr>\n",
       "      <th>8a2a100d634ffff</th>\n",
       "      <td>[PANAMA MISSION TO THE UN, KENYA CONSULATE, HO...</td>\n",
       "      <td>25</td>\n",
       "    </tr>\n",
       "  </tbody>\n",
       "</table>\n",
       "<p>12237 rows × 2 columns</p>\n",
       "</div>"
      ],
      "text/plain": [
       "                                                              NAME  COUNT\n",
       "h3_10                                                                    \n",
       "8a2a1000005ffff                                       [RAT ISLAND]      1\n",
       "8a2a100f3a87fff                          [BRIGHT BEGINNINGS 30 AV]      1\n",
       "8a2a100f3b47fff                   [I-278 BQE EAST LEG OVER 30 AVE]      1\n",
       "8a2a100f3b5ffff              [ST MICHAELS PLAYGROUND SOCCER FIELD]      1\n",
       "8a2a100f3baffff                 [BULOVA AVENUE OV I-278 BQE W LEG]      1\n",
       "...                                                            ...    ...\n",
       "8a2a100d622ffff  [ESTONIA CONSULATE, MONTESSORI FAMILY SCHOOL, ...     16\n",
       "8a2a100d62e7fff  [NICARAGUA CONSULAT, SYRIA CONSULATE, NEPAL MI...     20\n",
       "8a2a100d9167fff  [HOWARD-PARK HOUSES, HOWARD AVENUE PARK PLACE ...     22\n",
       "8a2a100d62effff  [GUINEA BISSAU MISSION TO UN, ERITREA MISSION ...     22\n",
       "8a2a100d634ffff  [PANAMA MISSION TO THE UN, KENYA CONSULATE, HO...     25\n",
       "\n",
       "[12237 rows x 2 columns]"
      ]
     },
     "execution_count": 7,
     "metadata": {},
     "output_type": "execute_result"
    }
   ],
   "source": [
    "poi_hex_df = pd.DataFrame(poi_hex_df[:-1])\n",
    "poi_hex_df['COUNT'] = poi_hex_df['NAME'].apply(len)\n",
    "# \n",
    "poi_hex_df.sort_values(['COUNT'])\n"
   ]
  },
  {
   "cell_type": "code",
   "execution_count": 8,
   "id": "3ab2fde4-158b-4962-861b-96459ba3fac4",
   "metadata": {
    "pycharm": {
     "name": "#%%\n"
    }
   },
   "outputs": [],
   "source": [
    "# visualize_hexagons(list(poi_h3.reset_index()['h3_10']))"
   ]
  },
  {
   "cell_type": "code",
   "execution_count": 9,
   "id": "487bf88e-102a-4c91-988d-f621d32e82a9",
   "metadata": {
    "pycharm": {
     "name": "#%%\n"
    }
   },
   "outputs": [],
   "source": [
    "\n",
    "poi_hex_df['hex_id'] = poi_hex_df.index\n",
    "df = pd.read_csv('../data/clean/h3_PLUTO.csv', low_memory=False)\n",
    "# pls = gpd.GeoDataFrame(poi_hex_df.h3.h3_to_geo_boundary(),Proj(\"epsg:4326\"))"
   ]
  },
  {
   "cell_type": "code",
   "execution_count": 19,
   "id": "b840ec18",
   "metadata": {
    "collapsed": false,
    "pycharm": {
     "name": "#%%\n"
    }
   },
   "outputs": [
    {
     "data": {
      "text/html": [
       "<div>\n",
       "<style scoped>\n",
       "    .dataframe tbody tr th:only-of-type {\n",
       "        vertical-align: middle;\n",
       "    }\n",
       "\n",
       "    .dataframe tbody tr th {\n",
       "        vertical-align: top;\n",
       "    }\n",
       "\n",
       "    .dataframe thead th {\n",
       "        text-align: right;\n",
       "    }\n",
       "</style>\n",
       "<table border=\"1\" class=\"dataframe\">\n",
       "  <thead>\n",
       "    <tr style=\"text-align: right;\">\n",
       "      <th></th>\n",
       "      <th>BldgArea</th>\n",
       "      <th>YearBuilt</th>\n",
       "      <th>hex_id</th>\n",
       "    </tr>\n",
       "    <tr>\n",
       "      <th>h3_10</th>\n",
       "      <th></th>\n",
       "      <th></th>\n",
       "      <th></th>\n",
       "    </tr>\n",
       "  </thead>\n",
       "  <tbody>\n",
       "    <tr>\n",
       "      <th>8a2a1000009ffff</th>\n",
       "      <td>0</td>\n",
       "      <td>0.00000</td>\n",
       "      <td>8a2a1000009ffff</td>\n",
       "    </tr>\n",
       "    <tr>\n",
       "      <th>8a2a10000287fff</th>\n",
       "      <td>4456</td>\n",
       "      <td>1947.50000</td>\n",
       "      <td>8a2a10000287fff</td>\n",
       "    </tr>\n",
       "    <tr>\n",
       "      <th>8a2a1000028ffff</th>\n",
       "      <td>596</td>\n",
       "      <td>1932.50000</td>\n",
       "      <td>8a2a1000028ffff</td>\n",
       "    </tr>\n",
       "    <tr>\n",
       "      <th>8a2a10000297fff</th>\n",
       "      <td>41770</td>\n",
       "      <td>1862.73913</td>\n",
       "      <td>8a2a10000297fff</td>\n",
       "    </tr>\n",
       "    <tr>\n",
       "      <th>8a2a1000029ffff</th>\n",
       "      <td>20394</td>\n",
       "      <td>1808.00000</td>\n",
       "      <td>8a2a1000029ffff</td>\n",
       "    </tr>\n",
       "    <tr>\n",
       "      <th>...</th>\n",
       "      <td>...</td>\n",
       "      <td>...</td>\n",
       "      <td>...</td>\n",
       "    </tr>\n",
       "    <tr>\n",
       "      <th>8a2a10776d87fff</th>\n",
       "      <td>111265</td>\n",
       "      <td>1920.00000</td>\n",
       "      <td>8a2a10776d87fff</td>\n",
       "    </tr>\n",
       "    <tr>\n",
       "      <th>8a2a10776d8ffff</th>\n",
       "      <td>227000</td>\n",
       "      <td>950.00000</td>\n",
       "      <td>8a2a10776d8ffff</td>\n",
       "    </tr>\n",
       "    <tr>\n",
       "      <th>8a2a10776da7fff</th>\n",
       "      <td>79000</td>\n",
       "      <td>1958.50000</td>\n",
       "      <td>8a2a10776da7fff</td>\n",
       "    </tr>\n",
       "    <tr>\n",
       "      <th>8a2a10776db7fff</th>\n",
       "      <td>0</td>\n",
       "      <td>0.00000</td>\n",
       "      <td>8a2a10776db7fff</td>\n",
       "    </tr>\n",
       "    <tr>\n",
       "      <th>8a754e64992ffff</th>\n",
       "      <td>239065</td>\n",
       "      <td>992.50000</td>\n",
       "      <td>8a754e64992ffff</td>\n",
       "    </tr>\n",
       "  </tbody>\n",
       "</table>\n",
       "<p>37683 rows × 3 columns</p>\n",
       "</div>"
      ],
      "text/plain": [
       "                 BldgArea   YearBuilt           hex_id\n",
       "h3_10                                                 \n",
       "8a2a1000009ffff         0     0.00000  8a2a1000009ffff\n",
       "8a2a10000287fff      4456  1947.50000  8a2a10000287fff\n",
       "8a2a1000028ffff       596  1932.50000  8a2a1000028ffff\n",
       "8a2a10000297fff     41770  1862.73913  8a2a10000297fff\n",
       "8a2a1000029ffff     20394  1808.00000  8a2a1000029ffff\n",
       "...                   ...         ...              ...\n",
       "8a2a10776d87fff    111265  1920.00000  8a2a10776d87fff\n",
       "8a2a10776d8ffff    227000   950.00000  8a2a10776d8ffff\n",
       "8a2a10776da7fff     79000  1958.50000  8a2a10776da7fff\n",
       "8a2a10776db7fff         0     0.00000  8a2a10776db7fff\n",
       "8a754e64992ffff    239065   992.50000  8a754e64992ffff\n",
       "\n",
       "[37683 rows x 3 columns]"
      ]
     },
     "execution_count": 19,
     "metadata": {},
     "output_type": "execute_result"
    }
   ],
   "source": [
    "# from hex_config import config\n",
    "from keplergl import KeplerGl\n",
    "% run hex_config.py\n",
    "\n",
    "df_gb = df.groupby('h3_10').agg({'BldgArea': 'sum', 'YearBuilt': 'mean'})\n",
    "df_gb['hex_id'] = df_gb.index\n",
    "\n",
    "df_gb\n",
    "# df_gb = df_gb.set_index(['hex_id'])"
   ]
  },
  {
   "cell_type": "code",
   "execution_count": 20,
   "id": "ecea16ad-df93-45f8-931d-d8a75899a6ef",
   "metadata": {
    "pycharm": {
     "name": "#%%\n"
    }
   },
   "outputs": [
    {
     "name": "stdout",
     "output_type": "stream",
     "text": [
      "User Guide: https://docs.kepler.gl/docs/keplergl-jupyter\n",
      "Map saved to helpme.html!\n"
     ]
    }
   ],
   "source": [
    "\n",
    "# map_1.save_to_html(file_name='../out/html/kepler_test.html')\n",
    "map_1 = KeplerGl(height=400, data={'data_poi': poi_hex_df, 'df_gb': df_gb}, config=config)\n",
    "\n",
    "map_1.save_to_html(file_name=\"helpme.html\")"
   ]
  },
  {
   "cell_type": "code",
   "execution_count": 9,
   "id": "44c72102-40a3-468a-a40e-0117ded95238",
   "metadata": {
    "pycharm": {
     "name": "#%%\n"
    }
   },
   "outputs": [],
   "source": [
    "import folium\n",
    "from h3 import h3\n",
    "\n",
    "\n",
    "def visualize_hexagons(hexagons, color=\"red\", folium_map=None, clipper=None):\n",
    "    \"\"\"\n",
    "    hexagons is a list of hexcluster. Each hexcluster is a list of hexagons. \n",
    "    eg. [[hex1, hex2], [hex3, hex4]]\n",
    "    \"\"\"\n",
    "    polylines = []\n",
    "    lat = []\n",
    "    lng = []\n",
    "    for hex in hexagons:\n",
    "        polygons = h3.h3_set_to_multi_polygon([hex], geo_json=False)\n",
    "        # polygons1=polygons.copy()\n",
    "        # for i in polygons1:\n",
    "        # gpd.GeoDataFrame(polygons1).clip(clipper)\n",
    "\n",
    "        # flatten polygons into loops.\n",
    "        outlines = [loop for polygon in polygons for loop in polygon]\n",
    "        polyline = [outline + [outline[0]] for outline in outlines][0]\n",
    "        lat.extend(map(lambda v: v[0], polyline))\n",
    "        lng.extend(map(lambda v: v[1], polyline))\n",
    "        polylines.append(polyline)\n",
    "\n",
    "    if folium_map is None:\n",
    "        # m = folium.Map(location=[sum(lat)/len(lat), sum(lng)/len(lng)], zoom_start=13, tiles='cartodbpositron',prefer_canvas=True)\n",
    "        m = folium.Map(location=[sum(lat) / len(lat), sum(lng) / len(lng)], zoom_start=11)\n",
    "    else:\n",
    "        m = folium_map\n",
    "    for polyline in polylines:\n",
    "        my_PolyLine = folium.PolyLine(locations=polyline, weight=2, color=color, )\n",
    "        m.add_child(my_PolyLine)\n",
    "\n",
    "    return m\n",
    "\n",
    "\n",
    "def visualize_polygon(polyline, color=\"red\", folium_map=None):\n",
    "    polyline.append(polyline[0])\n",
    "    lat = [p[0] for p in polyline]\n",
    "    lng = [p[1] for p in polyline]\n",
    "    if folium_map is None:\n",
    "        m = folium.Map(location=[sum(lat) / len(lat), sum(lng) / len(lng)], tiles='cartodbpositron')\n",
    "    else:\n",
    "        m = folium_map\n",
    "    my_PolyLine = folium.PolyLine(locations=polyline, weight=2, color=color)\n",
    "    m.add_child(my_PolyLine)\n",
    "    return m"
   ]
  },
  {
   "cell_type": "code",
   "execution_count": 66,
   "id": "6e7386dd-612d-45bc-a654-68c92e4e6403",
   "metadata": {
    "pycharm": {
     "name": "#%%\n"
    }
   },
   "outputs": [],
   "source": [
    "\n",
    "\n"
   ]
  },
  {
   "cell_type": "code",
   "execution_count": 68,
   "id": "af578644-02aa-4196-8667-e90985990e11",
   "metadata": {
    "pycharm": {
     "name": "#%%\n"
    }
   },
   "outputs": [
    {
     "data": {
      "text/plain": [
       "{'version': 'v1',\n",
       " 'config': {'visState': {'filters': [],\n",
       "   'layers': [{'id': 'cuia8dl',\n",
       "     'type': 'geojson',\n",
       "     'config': {'dataId': 'df_w_wkt',\n",
       "      'label': 'df_w_wkt',\n",
       "      'color': [30, 150, 190],\n",
       "      'highlightColor': [252, 242, 26, 255],\n",
       "      'columns': {'geojson': 'wkt_string'},\n",
       "      'isVisible': True,\n",
       "      'visConfig': {'opacity': 0.8,\n",
       "       'strokeOpacity': 0.8,\n",
       "       'thickness': 0.5,\n",
       "       'strokeColor': [137, 218, 193],\n",
       "       'colorRange': {'name': 'Global Warming',\n",
       "        'type': 'sequential',\n",
       "        'category': 'Uber',\n",
       "        'colors': ['#5A1846',\n",
       "         '#900C3F',\n",
       "         '#C70039',\n",
       "         '#E3611C',\n",
       "         '#F1920E',\n",
       "         '#FFC300']},\n",
       "       'strokeColorRange': {'name': 'Global Warming',\n",
       "        'type': 'sequential',\n",
       "        'category': 'Uber',\n",
       "        'colors': ['#5A1846',\n",
       "         '#900C3F',\n",
       "         '#C70039',\n",
       "         '#E3611C',\n",
       "         '#F1920E',\n",
       "         '#FFC300']},\n",
       "       'radius': 10,\n",
       "       'sizeRange': [0, 10],\n",
       "       'radiusRange': [0, 50],\n",
       "       'heightRange': [0, 500],\n",
       "       'elevationScale': 5,\n",
       "       'enableElevationZoomFactor': True,\n",
       "       'stroked': True,\n",
       "       'filled': True,\n",
       "       'enable3d': False,\n",
       "       'wireframe': False},\n",
       "      'hidden': False,\n",
       "      'textLabel': [{'field': None,\n",
       "        'color': [255, 255, 255],\n",
       "        'size': 18,\n",
       "        'offset': [0, 0],\n",
       "        'anchor': 'start',\n",
       "        'alignment': 'center'}]},\n",
       "     'visualChannels': {'colorField': None,\n",
       "      'colorScale': 'quantile',\n",
       "      'strokeColorField': None,\n",
       "      'strokeColorScale': 'quantile',\n",
       "      'sizeField': None,\n",
       "      'sizeScale': 'linear',\n",
       "      'heightField': None,\n",
       "      'heightScale': 'linear',\n",
       "      'radiusField': None,\n",
       "      'radiusScale': 'linear'}}],\n",
       "   'interactionConfig': {'tooltip': {'fieldsToShow': {'df_w_wkt': [{'name': 'id',\n",
       "        'format': None}]},\n",
       "     'compareMode': False,\n",
       "     'compareType': 'absolute',\n",
       "     'enabled': True},\n",
       "    'brush': {'size': 0.5, 'enabled': False},\n",
       "    'geocoder': {'enabled': False},\n",
       "    'coordinate': {'enabled': False}},\n",
       "   'layerBlending': 'normal',\n",
       "   'splitMaps': [],\n",
       "   'animationConfig': {'currentTime': None, 'speed': 1}},\n",
       "  'mapState': {'bearing': 0,\n",
       "   'dragRotate': False,\n",
       "   'latitude': 40.72118862170277,\n",
       "   'longitude': -74.00620574081474,\n",
       "   'pitch': 0,\n",
       "   'zoom': 11.674322951491083,\n",
       "   'isSplit': False},\n",
       "  'mapStyle': {'styleType': 'dark',\n",
       "   'topLayerGroups': {},\n",
       "   'visibleLayerGroups': {'label': True,\n",
       "    'road': True,\n",
       "    'border': False,\n",
       "    'building': True,\n",
       "    'water': True,\n",
       "    'land': True,\n",
       "    '3d building': False},\n",
       "   'threeDBuildingColor': [9.665468314072013,\n",
       "    17.18305478057247,\n",
       "    31.1442867897876],\n",
       "   'mapStyles': {}}}}"
      ]
     },
     "execution_count": 68,
     "metadata": {},
     "output_type": "execute_result"
    }
   ],
   "source": []
  },
  {
   "cell_type": "code",
   "execution_count": null,
   "id": "ca998702-e600-43b4-ade7-228d5437e715",
   "metadata": {
    "pycharm": {
     "name": "#%%\n"
    }
   },
   "outputs": [],
   "source": []
  }
 ],
 "metadata": {
  "kernelspec": {
   "display_name": "Mountain Brews v1.1",
   "language": "python",
   "name": "plz-gpu"
  },
  "language_info": {
   "codemirror_mode": {
    "name": "ipython",
    "version": 3
   },
   "file_extension": ".py",
   "mimetype": "text/x-python",
   "name": "python",
   "nbconvert_exporter": "python",
   "pygments_lexer": "ipython3",
   "version": "3.8.13"
  }
 },
 "nbformat": 4,
 "nbformat_minor": 5
}
