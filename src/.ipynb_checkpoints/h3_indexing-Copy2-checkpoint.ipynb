{
 "cells": [
  {
   "cell_type": "code",
   "execution_count": 1,
   "id": "37d2b8a7-c343-47a0-99cd-833763eb8ece",
   "metadata": {},
   "outputs": [
    {
     "data": {
      "text/plain": [
       "5"
      ]
     },
     "execution_count": 1,
     "metadata": {},
     "output_type": "execute_result"
    }
   ],
   "source": [
    "import pandas as pd\n",
    "import geopandas as gpd\n",
    "import h3pandas\n",
    "import numpy as np\n",
    "import shapely\n",
    "\n"
   ]
  },
  {
   "cell_type": "code",
   "execution_count": 3,
   "id": "2dbfb42c-27b8-425b-8343-58c3693deb09",
   "metadata": {},
   "outputs": [
    {
     "data": {
      "text/plain": [
       "\"\\nThis cell is only for cleaning data, \\nleave commented out unless you don't already have the clean data.\\n\""
      ]
     },
     "execution_count": 3,
     "metadata": {},
     "output_type": "execute_result"
    }
   ],
   "source": [
    "\"\"\"\n",
    "This cell is only for cleaning data, \n",
    "leave commented out unless you don't already have the clean data.\n",
    "\"\"\"\n",
    "\n",
    "# # load raw data from file\n",
    "# cblocks = gpd.read_file('../data/raw/census_blocks.csv')\n",
    "\n",
    "# # renames first column to correct geopandas format\n",
    "# cblocks.columns = ['geometry', 'CB2020', 'BoroCode', 'BoroName', 'CT2020', 'BCTCB2020',\n",
    "#        'GEOID', 'Shape_Leng', 'Shape_Area']\n",
    "    \n",
    "# # dictionary of each borocode\n",
    "# boro_dict = {2:'bronx', 3:'brooklyn', 1:'manhattan', 4:'queens', 5:'staten'}\n",
    "\n",
    "# # writes each borough to its own file\n",
    "# for boro_code in range(1,6):\n",
    "#     cblocks[cblocks[\"BoroCode\"]== str(boro_code)].to_csv(f\"../data/clean/census_blocks/{boro_dict[boro_code]}.csv\",index=False)\n",
    "    \n"
   ]
  },
  {
   "cell_type": "code",
   "execution_count": 4,
   "id": "31c969c8-b49f-408f-b98a-671c719ce823",
   "metadata": {},
   "outputs": [],
   "source": [
    "initial_rez = 13\n",
    "parent_rez = 10"
   ]
  },
  {
   "cell_type": "code",
   "execution_count": 6,
   "id": "c52b4ae9-bfde-4bf2-823c-4eb9f8bae117",
   "metadata": {},
   "outputs": [],
   "source": [
    "from shapely import wkt\n",
    "\n",
    "df = pd.read_csv('../data/clean/census_blocks/all.csv',index_col=False)\n",
    "\n",
    "df['geometry'] = df['geometry'].apply(wkt.loads)\n",
    "gdf = gpd.GeoDataFrame(df, crs='epsg:4326')\n",
    "# gdf.reset_index(drop=True)\n",
    "\n",
    "# pd.read_csv('../data/clean/h3_index/brooklyn_hex.csv')\n",
    "# exp_gdf = gdf.explode(index_parts=True).reset_index().drop('level_0',axis=1)"
   ]
  },
  {
   "cell_type": "code",
   "execution_count": null,
   "id": "85edcb35-18fb-4876-b5eb-a7ec75fbae43",
   "metadata": {},
   "outputs": [],
   "source": [
    "APERTURE_SIZE=initial_rez\n",
    "# dfh = gdf.h3.polyfill_resample(APERTURE_SIZE,return_geometry=False)\n",
    "dfh = gdf.h3.polyfill_resample(APERTURE_SIZE,return_geometry=True)\n"
   ]
  },
  {
   "cell_type": "code",
   "execution_count": null,
   "id": "5f587dff-27f3-4284-abe2-84756dd83eaa",
   "metadata": {},
   "outputs": [],
   "source": [
    "op_dict = {'GEOID':pd.Series.nunique}\n",
    "\n",
    "lout = dfh[['GEOID']].groupby(['h3_polyfill','GEOID'])\n",
    "\n",
    "lout = lout.nunique()\n",
    "lout = lout.reset_index()\n",
    "lout = lout.set_index('h3_polyfill')\n",
    "\n",
    "\n",
    "\n",
    "op_dict = {'GEOID':pd.Series.nunique}\n",
    "\n",
    "lout['cell_count'] = 1\n",
    "# op_dict = {'GEOID':pd.Series.nunique,'Shape_Area':pd.Series.first,'Shape_Leng':pd.Series.first,'h3_cell_area':'sum'}\n",
    "\n",
    "\n",
    "# op_dict = {'Shape_Area':'sum','h3_cell_area':'sum'}\n",
    "# op_dict = {'GEOID':pd.Series.nunique,'Shape_Area':'sum','h3_cell_area':'sum'}\n"
   ]
  },
  {
   "cell_type": "code",
   "execution_count": null,
   "id": "2fe5a3e5-e51f-4d94-aa73-b3e587c06d0c",
   "metadata": {},
   "outputs": [],
   "source": [
    "op_dict = {'GEOID':pd.Series.mode,'h3_cell_area':'sum','cell_count':pd.Series.sum}\n",
    "op_dict2 = {'GEOID':lambda x: set(list(x))}\n",
    "\n",
    "rout = lout.h3.cell_area()\n",
    "rout"
   ]
  },
  {
   "cell_type": "code",
   "execution_count": null,
   "id": "cccb4a9c-f91e-4b62-a486-96526e50c820",
   "metadata": {},
   "outputs": [],
   "source": [
    " # rout.groupby(['h3_polyfill','GEOID']).sum()\n",
    "final = rout.h3.h3_to_parent(10)"
   ]
  },
  {
   "cell_type": "code",
   "execution_count": null,
   "id": "e84c74be-c867-462c-ac30-cda2d8904203",
   "metadata": {},
   "outputs": [],
   "source": [
    "one_way = final.groupby(['h3_10']).agg(op_dict2)\n",
    "another_a = final.groupby(['GEOID','h3_10']).agg(op_dict)\n",
    "\n",
    "another = final.groupby(['GEOID']).agg(op_dict)\n",
    "# final.drop('GEOID',axis=1).reset_index()"
   ]
  },
  {
   "cell_type": "code",
   "execution_count": null,
   "id": "a3a62c1e-70c9-43f7-87f0-93a85c0b5a15",
   "metadata": {},
   "outputs": [],
   "source": [
    "# tempt = [h3.polyfill(shapely.geometry.mapping(x)) for x in list(shapely.geometry.load(geojson))]\n",
    "another_new = another.drop(['GEOID'],axis=1)\n",
    "# another_new = another_new.reset_index()\n",
    "another_new.rename({'h3_cell_area':'GEOID_cell_area','cell_count':'GEOID_cell_count'}, axis=1)\n",
    "\n",
    "# rezult = [h3.polyfill(shapely.geometry.mapping(x)) for x in list(shapely.wkt.load(f))]"
   ]
  },
  {
   "cell_type": "code",
   "execution_count": null,
   "id": "a6032b56-58b3-420a-9aae-9ff396f64ebb",
   "metadata": {},
   "outputs": [],
   "source": [
    "another_x = another_a.drop(['GEOID'],axis=1)\n",
    "another_x\n",
    "\n",
    "\n",
    "another_x['proportion'] = another_x['cell_count'] / another_x.groupby('GEOID')['cell_count'].transform('sum')\n"
   ]
  },
  {
   "cell_type": "code",
   "execution_count": null,
   "id": "31df7629-536e-4826-a2a9-13461c51a6c9",
   "metadata": {},
   "outputs": [],
   "source": [
    "another_x.rename({'h3_cell_area':'area_in_h3_cell','cell_count':'GEOID_cell_count','proportion':'proportion'}, axis=1)\n",
    "\n",
    "another_x\n",
    "\n",
    "\n",
    "# one_way.drop"
   ]
  },
  {
   "cell_type": "code",
   "execution_count": null,
   "id": "77504d92-9bf9-4bc0-b6ff-de8b21de9021",
   "metadata": {},
   "outputs": [],
   "source": [
    "# the_way = one_way.drop(['GEOID'],axis=1).reset_index()\n",
    "# the_way = the_way.set_index('h3_10')"
   ]
  },
  {
   "cell_type": "code",
   "execution_count": null,
   "id": "fdda8b24-83f2-4d9c-9f54-2121afc9c680",
   "metadata": {},
   "outputs": [],
   "source": [
    "h3_to_GEOID = one_way\n",
    "h3_to_GEOID"
   ]
  },
  {
   "cell_type": "code",
   "execution_count": null,
   "id": "808cd8f7-89c3-4821-83e2-b01444848408",
   "metadata": {},
   "outputs": [],
   "source": [
    "tempt = gdf.h3.polyfill(initial_rez,explode=True)\n"
   ]
  },
  {
   "cell_type": "code",
   "execution_count": null,
   "id": "cce7053d-843c-4dbb-be6b-9516f9c980c0",
   "metadata": {},
   "outputs": [],
   "source": [
    "helper = tempt[tempt['h3_polyfill'].isnull()]\n",
    "helper = helper.drop(['h3_polyfill'],axis=1).h3.polyfill(15,explode=True)\n",
    "tempt"
   ]
  },
  {
   "cell_type": "code",
   "execution_count": null,
   "id": "4cee1e75-e58c-41b2-8584-039d92f15ff8",
   "metadata": {},
   "outputs": [],
   "source": [
    "fixed = tempt.dropna(subset=['h3_polyfill'])\n",
    "tempt = fixed.append(helper)\n",
    "\n",
    "# tempt.\n",
    "\n"
   ]
  },
  {
   "cell_type": "code",
   "execution_count": null,
   "id": "327b3950-f69d-4d8c-88ff-ed1454a7815f",
   "metadata": {},
   "outputs": [],
   "source": [
    "tempt = tempt.set_index('h3_polyfill')\n",
    "tempt.index.name = None\n"
   ]
  },
  {
   "cell_type": "code",
   "execution_count": null,
   "id": "b58c3964-df77-4e42-94b3-6e1cffbc8bab",
   "metadata": {},
   "outputs": [],
   "source": [
    "\n",
    "df = pd.DataFrame(tempt[[]])\n",
    "df"
   ]
  },
  {
   "cell_type": "code",
   "execution_count": null,
   "id": "ffd07611-3bcc-449d-99c4-4e1041cd3869",
   "metadata": {},
   "outputs": [],
   "source": [
    "tempt['h3_polyfill_r10'] = df.h3.h3_to_parent(10)"
   ]
  },
  {
   "cell_type": "code",
   "execution_count": null,
   "id": "b135d4c4-5d14-4b8a-bf52-1f3912ba62b0",
   "metadata": {},
   "outputs": [],
   "source": [
    "gosh = tempt.groupby(['h3_polyfill_r10','GEOID'])"
   ]
  },
  {
   "cell_type": "code",
   "execution_count": null,
   "id": "c7bcd790-a5ae-4e18-b155-a3c67b1605dd",
   "metadata": {},
   "outputs": [],
   "source": [
    "out = gosh.first()"
   ]
  },
  {
   "cell_type": "code",
   "execution_count": null,
   "id": "cec20f5f-2280-4e33-918c-bfb61fd85f54",
   "metadata": {},
   "outputs": [],
   "source": [
    "out"
   ]
  },
  {
   "cell_type": "code",
   "execution_count": null,
   "id": "c5fbccbd-1fb8-4dcd-ba23-e2eebe5534a5",
   "metadata": {},
   "outputs": [],
   "source": [
    "APERTURE_SIZE=13\n",
    "# dfh = gdf.h3.polyfill_resample(APERTURE_SIZE,return_geometry=False)\n",
    "dfh = gdf.h3.polyfill_resample(APERTURE_SIZE,return_geometry=True)"
   ]
  },
  {
   "cell_type": "code",
   "execution_count": null,
   "id": "cad4673e-486c-4de4-bf74-0fb734a18241",
   "metadata": {},
   "outputs": [],
   "source": [
    "dfh"
   ]
  },
  {
   "cell_type": "code",
   "execution_count": null,
   "id": "df8ac4b8-3470-4769-b061-d23044792000",
   "metadata": {},
   "outputs": [],
   "source": []
  }
 ],
 "metadata": {
  "kernelspec": {
   "display_name": "Mountain Brews v1.1",
   "language": "python",
   "name": "plz-gpu"
  },
  "language_info": {
   "codemirror_mode": {
    "name": "ipython",
    "version": 3
   },
   "file_extension": ".py",
   "mimetype": "text/x-python",
   "name": "python",
   "nbconvert_exporter": "python",
   "pygments_lexer": "ipython3",
   "version": "3.8.13"
  }
 },
 "nbformat": 4,
 "nbformat_minor": 5
}
