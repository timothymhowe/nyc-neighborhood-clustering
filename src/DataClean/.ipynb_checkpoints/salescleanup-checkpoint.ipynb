{
 "cells": [
  {
   "cell_type": "code",
   "execution_count": 2,
   "metadata": {
    "pycharm": {
     "name": "#%%\n"
    }
   },
   "outputs": [],
   "source": [
    "import pandas as pd\n",
    "\n",
    "\n",
    "\n",
    "#https://www1.nyc.gov/assets/finance/jump/hlpbldgcode.html\n",
    "#https://www1.nyc.gov/site/finance/taxes/property-rolling-sales-data.page"
   ]
  },
  {
   "cell_type": "code",
   "execution_count": null,
   "metadata": {
    "pycharm": {
     "name": "#%%\n"
    }
   },
   "outputs": [],
   "source": [
    "files = [,\n",
    "    './Data/rollingsales_manhattan.xlsx',\n",
    "    './Data/rollingsales_queens.xlsx',\n",
    "    './Data/rollingsales_statenisland.xlsx',\n",
    "    './Data/rollingsales_brooklyn.xlsx',\n",
    "    './Data/rollingsales_bronx.xlsx']"
   ]
  },
  {
   "cell_type": "code",
   "execution_count": null,
   "metadata": {
    "pycharm": {
     "name": "#%%\n"
    }
   },
   "outputs": [],
   "source": [
    "ffiles= ['./Data/Rolling/ManhattanSalesFinal.csv',\n",
    "    './Data/Rolling/QueensSalesFinal.csv',\n",
    "    './Data/Rolling/StatenIslandSalesFinal.csv',\n",
    "    './Data/Rolling/BrooklynSalesFinal.csv',\n",
    "    './Data/Rolling/BronxSalesFinal.csv']"
   ]
  },
  {
   "cell_type": "code",
   "execution_count": null,
   "metadata": {
    "pycharm": {
     "name": "#%%\n"
    }
   },
   "outputs": [],
   "source": [
    "boroughCodes = ['MN', 'QN', 'SI','BK','BX']"
   ]
  },
  {
   "cell_type": "code",
   "execution_count": null,
   "metadata": {
    "pycharm": {
     "name": "#%%\n"
    }
   },
   "outputs": [],
   "source": [
    "fileNum = 0"
   ]
  },
  {
   "cell_type": "code",
   "execution_count": 72,
   "metadata": {
    "pycharm": {
     "name": "#%%\n"
    }
   },
   "outputs": [],
   "source": [
    "df = pd.read_excel(files[fileNum], header=4)"
   ]
  },
  {
   "cell_type": "code",
   "execution_count": 10,
   "metadata": {
    "pycharm": {
     "name": "#%%\n"
    }
   },
   "outputs": [],
   "source": [
    "plutoDF = pd.read_csv('./Data/PLUTOclean.csv', index_col=0)"
   ]
  },
  {
   "cell_type": "code",
   "execution_count": 11,
   "metadata": {
    "pycharm": {
     "name": "#%%\n"
    }
   },
   "outputs": [],
   "source": [
    "plutodict = {}\n",
    "\n",
    "plutodict['QN'] = plutoDF[plutoDF['borough'] == 'QN']\n",
    "plutodict['BK'] = plutoDF[plutoDF['borough'] == 'BK']\n",
    "plutodict['BX'] = plutoDF[plutoDF['borough'] == 'BX']\n",
    "plutodict['SI'] = plutoDF[plutoDF['borough'] == 'SI']\n",
    "plutodict['MN'] = plutoDF[plutoDF['borough'] == 'MN']"
   ]
  },
  {
   "cell_type": "code",
   "execution_count": 73,
   "metadata": {
    "pycharm": {
     "name": "#%%\n"
    }
   },
   "outputs": [],
   "source": [
    "df = df.drop(['TAX CLASS AT PRESENT','EASE-MENT', 'EASEMENT','APARTMENT NUMBER', 'RESIDENTIAL UNITS','COMMERCIAL UNITS','TOTAL UNITS','LAND SQUARE FEET', 'GROSS SQUARE FEET'], axis=1,errors='ignore')"
   ]
  },
  {
   "cell_type": "code",
   "execution_count": 58,
   "metadata": {
    "pycharm": {
     "name": "#%%\n"
    }
   },
   "outputs": [],
   "source": [
    "count = 0\n",
    "def plutolookup(block, borough, write=False):\n",
    "    try:\n",
    "        ret = int(plutodict[borough][(plutodict[borough]['block'] == block)]['bctcb2020'].max())\n",
    "    except:\n",
    "        ret = -1\n",
    "    global count\n",
    "    count = count + 1\n",
    "    if write or count % 1000 == 0:\n",
    "        file_object = open('log.txt', 'a')\n",
    "\n",
    "        file_object.write(str(count) + \": \" + str(ret) + '\\n')\n",
    "\n",
    "        file_object.close\n",
    "    return ret\n",
    "    "
   ]
  },
  {
   "cell_type": "code",
   "execution_count": 74,
   "metadata": {
    "pycharm": {
     "name": "#%%\n"
    }
   },
   "outputs": [],
   "source": [
    "df['bctcb2020'] = df['BLOCK'].apply(lambda x: plutolookup(x, boroughCodes[fileNum], write=False))"
   ]
  },
  {
   "cell_type": "code",
   "execution_count": null,
   "metadata": {
    "pycharm": {
     "name": "#%%\n"
    }
   },
   "outputs": [],
   "source": [
    "df = df.dropna(subset=['bctcb2020'])"
   ]
  },
  {
   "cell_type": "code",
   "execution_count": null,
   "metadata": {
    "pycharm": {
     "name": "#%%\n"
    }
   },
   "outputs": [],
   "source": [
    "yearMean = int(df['YEAR BUILT'].mean())\n",
    "for index, row in df[df['YEAR BUILT'].isnull()].iterrows():\n",
    "    df.iloc[index, df.columns.get_loc('YEAR BUILT')] = yearMean"
   ]
  },
  {
   "cell_type": "code",
   "execution_count": null,
   "metadata": {
    "pycharm": {
     "name": "#%%\n"
    }
   },
   "outputs": [],
   "source": [
    "for index, row in df[df['BUILDING CLASS AT PRESENT'].isnull()].iterrows():\n",
    "    df.iloc[index, df.columns.get_loc('BUILDING CLASS AT PRESENT')] = row['BUILDING CLASS CATEGORY']"
   ]
  },
  {
   "cell_type": "code",
   "execution_count": null,
   "metadata": {
    "pycharm": {
     "name": "#%%\n"
    }
   },
   "outputs": [],
   "source": [
    "df = df[df['bctcb2020'] != -1]\n",
    "df = df[df['SALE PRICE'] > 0] "
   ]
  },
  {
   "cell_type": "code",
   "execution_count": null,
   "metadata": {
    "pycharm": {
     "name": "#%%\n"
    }
   },
   "outputs": [],
   "source": [
    "df.to_csv(ffiles[fileNum], index=False)"
   ]
  }
 ],
 "metadata": {
  "kernelspec": {
   "display_name": "Python 3.8.13 ('base_env')",
   "language": "python",
   "name": "python3"
  },
  "language_info": {
   "codemirror_mode": {
    "name": "ipython",
    "version": 3
   },
   "file_extension": ".py",
   "mimetype": "text/x-python",
   "name": "python",
   "nbconvert_exporter": "python",
   "pygments_lexer": "ipython3",
   "version": "3.8.13"
  },
  "vscode": {
   "interpreter": {
    "hash": "ef8525c3ea361a8350edaf0274d1d5f803c0514c483616e23e7974cd71c1931d"
   }
  }
 },
 "nbformat": 4,
 "nbformat_minor": 2
}
