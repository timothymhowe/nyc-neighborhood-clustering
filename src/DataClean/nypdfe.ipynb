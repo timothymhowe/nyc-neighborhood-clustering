{
 "cells": [
  {
   "cell_type": "code",
   "execution_count": 1,
   "metadata": {
    "pycharm": {
     "name": "#%%\n"
    }
   },
   "outputs": [],
   "source": [
    "import pandas as pd\n",
    "import h3"
   ]
  },
  {
   "cell_type": "code",
   "execution_count": 43,
   "metadata": {
    "pycharm": {
     "name": "#%%\n"
    }
   },
   "outputs": [],
   "source": [
    "df = pd.read_csv('./Data/NYPDcleanupfinal.csv')"
   ]
  },
  {
   "cell_type": "code",
   "execution_count": 44,
   "metadata": {
    "pycharm": {
     "name": "#%%\n"
    }
   },
   "outputs": [
    {
     "data": {
      "text/html": [
       "<div>\n",
       "<style scoped>\n",
       "    .dataframe tbody tr th:only-of-type {\n",
       "        vertical-align: middle;\n",
       "    }\n",
       "\n",
       "    .dataframe tbody tr th {\n",
       "        vertical-align: top;\n",
       "    }\n",
       "\n",
       "    .dataframe thead th {\n",
       "        text-align: right;\n",
       "    }\n",
       "</style>\n",
       "<table border=\"1\" class=\"dataframe\">\n",
       "  <thead>\n",
       "    <tr style=\"text-align: right;\">\n",
       "      <th></th>\n",
       "      <th>CMPLNT_NUM</th>\n",
       "      <th>CMPLNT_FR_DT</th>\n",
       "      <th>CMPLNT_FR_TM</th>\n",
       "      <th>ADDR_PCT_CD</th>\n",
       "      <th>RPT_DT</th>\n",
       "      <th>KY_CD</th>\n",
       "      <th>OFNS_DESC</th>\n",
       "      <th>PD_CD</th>\n",
       "      <th>PD_DESC</th>\n",
       "      <th>CRM_ATPT_CPTD_CD</th>\n",
       "      <th>LAW_CAT_CD</th>\n",
       "      <th>BORO_NM</th>\n",
       "      <th>JURIS_DESC</th>\n",
       "      <th>Latitude</th>\n",
       "      <th>Longitude</th>\n",
       "      <th>id_nearest</th>\n",
       "      <th>Block</th>\n",
       "      <th>bctcb2020</th>\n",
       "      <th>h3geo</th>\n",
       "    </tr>\n",
       "  </thead>\n",
       "  <tbody>\n",
       "  </tbody>\n",
       "</table>\n",
       "</div>"
      ],
      "text/plain": [
       "Empty DataFrame\n",
       "Columns: [CMPLNT_NUM, CMPLNT_FR_DT, CMPLNT_FR_TM, ADDR_PCT_CD, RPT_DT, KY_CD, OFNS_DESC, PD_CD, PD_DESC, CRM_ATPT_CPTD_CD, LAW_CAT_CD, BORO_NM, JURIS_DESC, Latitude, Longitude, id_nearest, Block, bctcb2020, h3geo]\n",
       "Index: []"
      ]
     },
     "execution_count": 44,
     "metadata": {},
     "output_type": "execute_result"
    }
   ],
   "source": [
    "df[df['bctcb2020'].isnull()]"
   ]
  },
  {
   "cell_type": "code",
   "execution_count": 4,
   "metadata": {
    "pycharm": {
     "name": "#%%\n"
    }
   },
   "outputs": [],
   "source": [
    "blockdict = df.groupby('Block')['bctcb2020'].max()"
   ]
  },
  {
   "cell_type": "code",
   "execution_count": 7,
   "metadata": {
    "pycharm": {
     "name": "#%%\n"
    }
   },
   "outputs": [],
   "source": [
    "for index, row in df[df['bctcb2020'].isnull()].iterrows():\n",
    "    df.iloc[index, df.columns.get_loc('bctcb2020')] = blockdict[row['Block']]"
   ]
  },
  {
   "cell_type": "code",
   "execution_count": 13,
   "metadata": {
    "pycharm": {
     "name": "#%%\n"
    }
   },
   "outputs": [],
   "source": [
    "df = df.dropna(subset=['bctcb2020'])"
   ]
  },
  {
   "cell_type": "code",
   "execution_count": 66,
   "metadata": {
    "pycharm": {
     "name": "#%%\n"
    }
   },
   "outputs": [
    {
     "data": {
      "text/plain": [
       "CMPLNT_NUM                           0\n",
       "CMPLNT_FR_DT                       648\n",
       "CMPLNT_FR_TM                        48\n",
       "BORO_NM                              0\n",
       "Latitude                             0\n",
       "                                  ... \n",
       "JURIS_DESC_SEA GATE POLICE DEPT      0\n",
       "JURIS_DESC_STATN IS RAPID TRANS      0\n",
       "JURIS_DESC_TRI-BORO BRDG TUNNL       0\n",
       "JURIS_DESC_U.S. PARK POLICE          0\n",
       "CRIME_COMPLETED                      0\n",
       "Length: 189, dtype: int64"
      ]
     },
     "execution_count": 66,
     "metadata": {},
     "output_type": "execute_result"
    }
   ],
   "source": [
    "df.isnull().sum()"
   ]
  },
  {
   "cell_type": "code",
   "execution_count": 65,
   "metadata": {
    "pycharm": {
     "name": "#%%\n"
    }
   },
   "outputs": [
    {
     "ename": "UFuncTypeError",
     "evalue": "ufunc 'add' did not contain a loop with signature matching types (dtype('int64'), dtype('<U1')) -> None",
     "output_type": "error",
     "traceback": [
      "\u001b[1;31m---------------------------------------------------------------------------\u001b[0m",
      "\u001b[1;31mUFuncTypeError\u001b[0m                            Traceback (most recent call last)",
      "\u001b[1;32mc:\\lighthouse-data-notes\\nyc-neighborhood-clusteringold\\nypdfe.ipynb Cell 7\u001b[0m in \u001b[0;36m<cell line: 3>\u001b[1;34m()\u001b[0m\n\u001b[0;32m      <a href='vscode-notebook-cell:/c%3A/lighthouse-data-notes/nyc-neighborhood-clusteringold/nypdfe.ipynb#ch0000025?line=0'>1</a>\u001b[0m file_object \u001b[39m=\u001b[39m \u001b[39mopen\u001b[39m(\u001b[39m'\u001b[39m\u001b[39mlog.txt\u001b[39m\u001b[39m'\u001b[39m, \u001b[39m'\u001b[39m\u001b[39ma\u001b[39m\u001b[39m'\u001b[39m)\n\u001b[1;32m----> <a href='vscode-notebook-cell:/c%3A/lighthouse-data-notes/nyc-neighborhood-clusteringold/nypdfe.ipynb#ch0000025?line=2'>3</a>\u001b[0m file_object\u001b[39m.\u001b[39mwrite(df\u001b[39m.\u001b[39;49misnull()\u001b[39m.\u001b[39;49msum()\u001b[39m+\u001b[39;49m \u001b[39m'\u001b[39;49m\u001b[39m\\n\u001b[39;49;00m\u001b[39m'\u001b[39;49m)\n\u001b[0;32m      <a href='vscode-notebook-cell:/c%3A/lighthouse-data-notes/nyc-neighborhood-clusteringold/nypdfe.ipynb#ch0000025?line=4'>5</a>\u001b[0m file_object\u001b[39m.\u001b[39mclose\n",
      "File \u001b[1;32mc:\\anaconda3\\envs\\NYC-Env\\lib\\site-packages\\pandas\\core\\ops\\common.py:70\u001b[0m, in \u001b[0;36m_unpack_zerodim_and_defer.<locals>.new_method\u001b[1;34m(self, other)\u001b[0m\n\u001b[0;32m     66\u001b[0m             \u001b[39mreturn\u001b[39;00m \u001b[39mNotImplemented\u001b[39m\n\u001b[0;32m     68\u001b[0m other \u001b[39m=\u001b[39m item_from_zerodim(other)\n\u001b[1;32m---> 70\u001b[0m \u001b[39mreturn\u001b[39;00m method(\u001b[39mself\u001b[39;49m, other)\n",
      "File \u001b[1;32mc:\\anaconda3\\envs\\NYC-Env\\lib\\site-packages\\pandas\\core\\arraylike.py:100\u001b[0m, in \u001b[0;36mOpsMixin.__add__\u001b[1;34m(self, other)\u001b[0m\n\u001b[0;32m     98\u001b[0m \u001b[39m@unpack_zerodim_and_defer\u001b[39m(\u001b[39m\"\u001b[39m\u001b[39m__add__\u001b[39m\u001b[39m\"\u001b[39m)\n\u001b[0;32m     99\u001b[0m \u001b[39mdef\u001b[39;00m \u001b[39m__add__\u001b[39m(\u001b[39mself\u001b[39m, other):\n\u001b[1;32m--> 100\u001b[0m     \u001b[39mreturn\u001b[39;00m \u001b[39mself\u001b[39;49m\u001b[39m.\u001b[39;49m_arith_method(other, operator\u001b[39m.\u001b[39;49madd)\n",
      "File \u001b[1;32mc:\\anaconda3\\envs\\NYC-Env\\lib\\site-packages\\pandas\\core\\series.py:5639\u001b[0m, in \u001b[0;36mSeries._arith_method\u001b[1;34m(self, other, op)\u001b[0m\n\u001b[0;32m   5637\u001b[0m \u001b[39mdef\u001b[39;00m \u001b[39m_arith_method\u001b[39m(\u001b[39mself\u001b[39m, other, op):\n\u001b[0;32m   5638\u001b[0m     \u001b[39mself\u001b[39m, other \u001b[39m=\u001b[39m ops\u001b[39m.\u001b[39malign_method_SERIES(\u001b[39mself\u001b[39m, other)\n\u001b[1;32m-> 5639\u001b[0m     \u001b[39mreturn\u001b[39;00m base\u001b[39m.\u001b[39;49mIndexOpsMixin\u001b[39m.\u001b[39;49m_arith_method(\u001b[39mself\u001b[39;49m, other, op)\n",
      "File \u001b[1;32mc:\\anaconda3\\envs\\NYC-Env\\lib\\site-packages\\pandas\\core\\base.py:1295\u001b[0m, in \u001b[0;36mIndexOpsMixin._arith_method\u001b[1;34m(self, other, op)\u001b[0m\n\u001b[0;32m   1292\u001b[0m rvalues \u001b[39m=\u001b[39m ensure_wrapped_if_datetimelike(rvalues)\n\u001b[0;32m   1294\u001b[0m \u001b[39mwith\u001b[39;00m np\u001b[39m.\u001b[39merrstate(\u001b[39mall\u001b[39m\u001b[39m=\u001b[39m\u001b[39m\"\u001b[39m\u001b[39mignore\u001b[39m\u001b[39m\"\u001b[39m):\n\u001b[1;32m-> 1295\u001b[0m     result \u001b[39m=\u001b[39m ops\u001b[39m.\u001b[39;49marithmetic_op(lvalues, rvalues, op)\n\u001b[0;32m   1297\u001b[0m \u001b[39mreturn\u001b[39;00m \u001b[39mself\u001b[39m\u001b[39m.\u001b[39m_construct_result(result, name\u001b[39m=\u001b[39mres_name)\n",
      "File \u001b[1;32mc:\\anaconda3\\envs\\NYC-Env\\lib\\site-packages\\pandas\\core\\ops\\array_ops.py:222\u001b[0m, in \u001b[0;36marithmetic_op\u001b[1;34m(left, right, op)\u001b[0m\n\u001b[0;32m    217\u001b[0m \u001b[39melse\u001b[39;00m:\n\u001b[0;32m    218\u001b[0m     \u001b[39m# TODO we should handle EAs consistently and move this check before the if/else\u001b[39;00m\n\u001b[0;32m    219\u001b[0m     \u001b[39m# (https://github.com/pandas-dev/pandas/issues/41165)\u001b[39;00m\n\u001b[0;32m    220\u001b[0m     _bool_arith_check(op, left, right)\n\u001b[1;32m--> 222\u001b[0m     res_values \u001b[39m=\u001b[39m _na_arithmetic_op(left, right, op)\n\u001b[0;32m    224\u001b[0m \u001b[39mreturn\u001b[39;00m res_values\n",
      "File \u001b[1;32mc:\\anaconda3\\envs\\NYC-Env\\lib\\site-packages\\pandas\\core\\ops\\array_ops.py:163\u001b[0m, in \u001b[0;36m_na_arithmetic_op\u001b[1;34m(left, right, op, is_cmp)\u001b[0m\n\u001b[0;32m    160\u001b[0m     func \u001b[39m=\u001b[39m partial(expressions\u001b[39m.\u001b[39mevaluate, op)\n\u001b[0;32m    162\u001b[0m \u001b[39mtry\u001b[39;00m:\n\u001b[1;32m--> 163\u001b[0m     result \u001b[39m=\u001b[39m func(left, right)\n\u001b[0;32m    164\u001b[0m \u001b[39mexcept\u001b[39;00m \u001b[39mTypeError\u001b[39;00m:\n\u001b[0;32m    165\u001b[0m     \u001b[39mif\u001b[39;00m \u001b[39mnot\u001b[39;00m is_cmp \u001b[39mand\u001b[39;00m (is_object_dtype(left\u001b[39m.\u001b[39mdtype) \u001b[39mor\u001b[39;00m is_object_dtype(right)):\n\u001b[0;32m    166\u001b[0m         \u001b[39m# For object dtype, fallback to a masked operation (only operating\u001b[39;00m\n\u001b[0;32m    167\u001b[0m         \u001b[39m#  on the non-missing values)\u001b[39;00m\n\u001b[0;32m    168\u001b[0m         \u001b[39m# Don't do this for comparisons, as that will handle complex numbers\u001b[39;00m\n\u001b[0;32m    169\u001b[0m         \u001b[39m#  incorrectly, see GH#32047\u001b[39;00m\n",
      "\u001b[1;31mUFuncTypeError\u001b[0m: ufunc 'add' did not contain a loop with signature matching types (dtype('int64'), dtype('<U1')) -> None"
     ]
    }
   ],
   "source": [
    "file_object = open('log.txt', 'a')\n",
    "\n",
    "file_object.write(df.isnull().sum()+ '\\n')\n",
    "\n",
    "file_object.close\n",
    "\n",
    "#df.isnull().sum()"
   ]
  },
  {
   "cell_type": "code",
   "execution_count": 46,
   "metadata": {
    "pycharm": {
     "name": "#%%\n"
    }
   },
   "outputs": [],
   "source": [
    "df = df.drop(['OFNS_DESC', 'id_nearest', 'PD_CD', 'RPT_DT', 'PD_DESC'], axis = 1, errors='ignore')"
   ]
  },
  {
   "cell_type": "code",
   "execution_count": 49,
   "metadata": {
    "pycharm": {
     "name": "#%%\n"
    }
   },
   "outputs": [],
   "source": [
    "df = df.dropna(subset=['CRM_ATPT_CPTD_CD','ADDR_PCT_CD'])"
   ]
  },
  {
   "cell_type": "code",
   "execution_count": 51,
   "metadata": {
    "pycharm": {
     "name": "#%%\n"
    }
   },
   "outputs": [],
   "source": [
    "df = pd.get_dummies(df, prefix=['ADDR_PCT_CD_','KY_CD','LAW_CAT_CD','JURIS_DESC'], columns=['ADDR_PCT_CD','KY_CD', 'LAW_CAT_CD','JURIS_DESC'])"
   ]
  },
  {
   "cell_type": "code",
   "execution_count": 52,
   "metadata": {
    "pycharm": {
     "name": "#%%\n"
    }
   },
   "outputs": [],
   "source": [
    "df['CRIME_COMPLETED'] = df['CRM_ATPT_CPTD_CD']"
   ]
  },
  {
   "cell_type": "code",
   "execution_count": 53,
   "metadata": {
    "pycharm": {
     "name": "#%%\n"
    }
   },
   "outputs": [],
   "source": [
    "df['CRIME_COMPLETED'] = df['CRIME_COMPLETED'].replace({'COMPLETED': 1, 'ATTEMPTED': 0})"
   ]
  },
  {
   "cell_type": "code",
   "execution_count": 57,
   "metadata": {
    "pycharm": {
     "name": "#%%\n"
    }
   },
   "outputs": [],
   "source": [
    "df = df.drop(['CRM_ATPT_CPTD_CD'], axis=1)"
   ]
  },
  {
   "cell_type": "code",
   "execution_count": 39,
   "metadata": {
    "pycharm": {
     "name": "#%%\n"
    }
   },
   "outputs": [
    {
     "data": {
      "text/plain": [
       "array(['COMPLETED', 'ATTEMPTED'], dtype=object)"
      ]
     },
     "execution_count": 39,
     "metadata": {},
     "output_type": "execute_result"
    }
   ],
   "source": [
    "df['CRM_ATPT_CPTD_CD'].unique()"
   ]
  },
  {
   "cell_type": "code",
   "execution_count": 30,
   "metadata": {
    "pycharm": {
     "name": "#%%\n"
    }
   },
   "outputs": [
    {
     "data": {
      "text/plain": [
       "array(['HARASSMENT,SUBD 3,4,5', 'LARCENY,PETIT FROM AUTO',\n",
       "       'FORGERY,ETC.,UNCLASSIFIED-FELO', 'RAPE 1', 'WEAPONS POSSESSION 3',\n",
       "       'ASSAULT 2,1,UNCLASSIFIED',\n",
       "       'LARCENY,GRAND FROM RESIDENCE, UNATTENDED', 'ASSAULT 3',\n",
       "       'CRIMINAL MISCHIEF 4TH, GRAFFIT', 'LARCENY,PETIT OF LICENSE PLATE',\n",
       "       'STRANGULATION 1ST', 'FRAUD,UNCLASSIFIED-MISDEMEANOR',\n",
       "       'AGGRAVATED HARASSMENT 2', 'ARSON, MOTOR VEHICLE 1 2 3 & 4',\n",
       "       'LEAVING SCENE-ACCIDENT-PERSONA', 'SEXUAL ABUSE 3,2',\n",
       "       'FRAUD,UNCLASSIFIED-FELONY', 'CHILD, ENDANGERING WELFARE',\n",
       "       'LARCENY,PETIT FROM BUILDING,UN', 'LARCENY,GRAND OF BICYCLE',\n",
       "       'RAPE 3', 'BURGLARY,COMMERCIAL,NIGHT',\n",
       "       'LARCENY,PETIT FROM STORE-SHOPL', 'BURGLARY,RESIDENCE,DAY',\n",
       "       'LARCENY,PETIT BY FALSE PROMISE', 'LARCENY,PETIT FROM OPEN AREAS,',\n",
       "       'HARASSMENT,SUBD 1,CIVILIAN', 'WEAPONS POSSESSION 1 & 2',\n",
       "       'IMPERSONATION 2, PUBLIC SERVAN', 'ROBBERY,BICYCLE',\n",
       "       'BURGLARY,TRUCK DAY', 'LARCENY,GRAND FROM OPEN AREAS, UNATTENDED',\n",
       "       'FORGERY,DRIVERS LICENSE', 'FORGERY,M.V. REGISTRATION', 'RAPE 2',\n",
       "       'LARCENY,PETIT BY ACQUIRING LOS', 'LARCENY,PETIT OF VEHICLE ACCES',\n",
       "       'BURGLARY,RESIDENCE,NIGHT', 'ROBBERY,HOME INVASION',\n",
       "       'ROBBERY,CAR JACKING', 'ROBBERY,DWELLING',\n",
       "       'LARCENY,GRAND OF VEHICULAR/MOTORCYCLE ACCESSORIES',\n",
       "       'RECKLESS ENDANGERMENT 1', 'STOLEN PROPERTY-MOTOR VEH 2ND,',\n",
       "       'CONTROLLED SUBSTANCE,SALE 1', 'CRIMINAL MISCHIEF,UNCLASSIFIED 4',\n",
       "       'LARCENY,GRAND OF AUTO', 'CRIMINAL CONTEMPT 1',\n",
       "       'LARCENY,PETIT FROM BUILDING,UNATTENDED, PACKAGE THEFT OUTSIDE',\n",
       "       'PETIT LARCENY-CHECK FROM MAILB', 'LARCENY, GRAND OF AUTO - ATTEM',\n",
       "       'MISCHIEF, CRIMINAL 3 & 2, OF M', 'LARCENY,GRAND OF MOTORCYCLE',\n",
       "       'ADM.CODE,UNCLASSIFIED MISDEMEA', 'INTOXICATED DRIVING,ALCOHOL',\n",
       "       'MISCHIEF, CRIMINAL 4, OF MOTOR', 'VIOLATION OF ORDER OF PROTECTI',\n",
       "       'ROBBERY,LICENSED FOR HIRE VEHICLE',\n",
       "       'LARCENY,GRAND BY OPEN/COMPROMISE CELL PHONE ACCT',\n",
       "       'LARCENY,GRAND BY FALSE PROMISE-IN PERSON CONTACT',\n",
       "       'WEAPONS, POSSESSION, ETC', 'MENACING,UNCLASSIFIED',\n",
       "       'LARCENY,PETIT FROM BUILDING,UNATTENDED, PACKAGE THEFT INSIDE',\n",
       "       'BURGLARY,RESIDENCE,UNKNOWN TIM', 'STOLEN PROPERTY 3,POSSESSION',\n",
       "       'CONTEMPT,CRIMINAL', 'ROBBERY,PERSONAL ELECTRONIC DEVICE',\n",
       "       'ROBBERY,BEGIN AS SHOPLIFTING', 'RAPE 1,ATTEMPT',\n",
       "       'RECKLESS ENDANGERMENT 2', 'ROBBERY,OPEN AREA UNCLASSIFIED',\n",
       "       'LARCENY,GRAND FROM PERSON,LUSH WORKER(SLEEPING/UNCON VICTIM)',\n",
       "       'LARCENY,GRAND FROM RETAIL STORE, UNATTENDED',\n",
       "       'LARCENY,GRAND FROM PERSON,PURS',\n",
       "       'UNLAWFUL DISCLOSURE OF AN INTIMATE IMAGE',\n",
       "       'ROBBERY,RESIDENTIAL COMMON AREA', 'UNAUTHORIZED USE VEHICLE 3',\n",
       "       'LARCENY,PETIT BY DISHONEST EMP', 'LARCENY,GRAND PERSON,NECK CHAI',\n",
       "       'CONTROLLED SUBSTANCE, POSSESSI', 'LARCENY,GRAND BY EXTORTION',\n",
       "       'MISCHIEF,CRIMINAL,    UNCL 2ND', 'ROBBERY,NECKCHAIN/JEWELRY',\n",
       "       'AGGRAVATED HARASSMENT 1', 'STOLEN PROPERTY 2,1,POSSESSION',\n",
       "       'LARCENY,GRAND FROM VEHICLE/MOTORCYCLE',\n",
       "       'LARCENY,PETIT OF BICYCLE', 'AGGRAVATED SEXUAL ASBUSE',\n",
       "       'LARCENY,GRAND FROM STORE-SHOPL',\n",
       "       'LARCENY,GRAND BY FALSE PROMISE-NOT IN PERSON CONTACT',\n",
       "       'OBSTR BREATH/CIRCUL',\n",
       "       'LARCENY,GRAND FROM BUILDING (NON-RESIDENCE) UNATTENDED',\n",
       "       'UNAUTHORIZED USE VEHICLE 2', 'ROBBERY,BODEGA/CONVENIENCE STORE',\n",
       "       'LARCENY,GRAND BY CREDIT CARD ACCT COMPROMISE-EXISTING ACCT',\n",
       "       'FORGERY,ETC.-MISD.', 'ROBBERY,POCKETBOOK/CARRIED BAG',\n",
       "       'LARCENY,GRAND FROM PERSON,PICK', 'SEXUAL ABUSE',\n",
       "       'ADM.CODE,UNCLASSIFIED VIOLATIO', 'TRESPASS 2, CRIMINAL',\n",
       "       'TRESPASS 3, CRIMINAL',\n",
       "       'LARCENY,GRAND BY OPEN CREDIT CARD (NEW ACCT)',\n",
       "       'LARCENY,GRAND FROM PERSON,PERSONAL ELECTRONIC DEVICE(SNATCH)',\n",
       "       'BURGLARY,COMMERCIAL,DAY',\n",
       "       'LARCENY,GRAND BY IDENTITY THEFT-UNCLASSIFIED',\n",
       "       'LARCENY,GRAND BY ACQUIRING LOST CREDIT CARD',\n",
       "       'LARCENY,GRAND FROM PERSON,UNCL', 'LARCENY,PETIT BY CREDIT CARD U',\n",
       "       'LARCENY,GRAND BY ACQUIRING LOS', 'ROBBERY,CLOTHING',\n",
       "       'IMPERSONATION 1, POLICE OFFICE', 'RESISTING ARREST',\n",
       "       'ASSAULT OTHER PUBLIC SERVICE EMPLOYEE',\n",
       "       'ROBBERY,COMMERCIAL UNCLASSIFIED', 'CONTROLLED SUBSTANCE, SALE 5',\n",
       "       'BURGLARY,UNCLASSIFIED,UNKNOWN', 'ASSAULT POLICE/PEACE OFFICER',\n",
       "       'ACCOSTING,FRAUDULENT', 'LARCENY,GRAND BY THEFT OF CREDIT CARD',\n",
       "       'LARCENY,GRAND BY OPEN BANK ACCT',\n",
       "       'LARCENY,GRAND BY BANK ACCT COMPROMISE-UNCLASSIFIED',\n",
       "       'IMPRISONMENT 2,UNLAWFUL', 'LARCENY,GRAND FROM TRUCK, UNATTENDED',\n",
       "       'ROBBERY,DELIVERY PERSON',\n",
       "       'LARCENY,GRAND BY BANK ACCT COMPROMISE-ATM TRANSACTION',\n",
       "       'LARCENY,GRAND BY BANK ACCT COMPROMISE-UNAUTHORIZED PURCHASE',\n",
       "       'MARIJUANA, SALE 4 & 5',\n",
       "       'LARCENY,GRAND FROM NIGHT CLUB, UNATTENDED',\n",
       "       'CONTROLLED SUBSTANCE,SALE 3', 'CUSTODIAL INTERFERENCE 2',\n",
       "       'CONTROLLED SUBSTANCE,POSSESS.', 'ROBBERY,PUBLIC PLACE INSIDE',\n",
       "       'PUBLIC ADMINISTATION,UNCLASS M', 'LARCENY,PETIT BY CHECK USE',\n",
       "       'MENACING 1ST DEGREE (VICT PEAC',\n",
       "       'LARCENY,GRAND BY BANK ACCT COMPROMISE-TELLER',\n",
       "       'LARCENY,GRAND BY BANK ACCT COMPROMISE-REPRODUCED CHECK',\n",
       "       'ROBBERY, CHAIN STORE', 'THEFT OF SERVICES, UNCLASSIFIE',\n",
       "       'LARCENY,PETIT FROM TRUCK', 'MAKING TERRORISTIC THREAT',\n",
       "       'CONTROLLED SUBSTANCE,INTENT TO', 'AGGRAVATED CRIMINAL CONTEMPT',\n",
       "       'LARCENY,GRAND BY DISHONEST EMP', 'SEXUAL MISCONDUCT,INTERCOURSE',\n",
       "       'BURGLARY,TRUCK NIGHT', 'TORTURE/INJURE ANIMAL CRUELTY',\n",
       "       'AGRICULTURE & MARKETS LAW,UNCL',\n",
       "       'LARCENY,GRAND FROM RESIDENCE/BUILDING,UNATTENDED, PACKAGE THEFT OUTSIDE',\n",
       "       'PETIT LARCENY OF ANIMAL', 'BURGLARY,COMMERCIAL,UNKNOWN TI',\n",
       "       'LARCENY,GRAND FROM RESIDENCE/BUILDING,UNATTENDED, PACKAGE THEFT INSIDE',\n",
       "       'SODOMY 1', 'LARCENY,GRAND FROM EATERY, UNATTENDED',\n",
       "       'LEWDNESS,PUBLIC', 'TRESPASS 4,CRIMINAL SUB 2',\n",
       "       'CRIMINAL MIS 2 & 3', 'MARIJUANA, POSSESSION 1, 2 & 3',\n",
       "       'MISCHIEF, CRIMINAL 4, BY FIRE', 'ROBBERY,GAS STATION',\n",
       "       'LARCENY,GRAND FROM PERSON, BAG OPEN/DIP',\n",
       "       'CONTROLLED SUBSTANCE, INTENT T', 'TAMPERING 1,CRIMINAL',\n",
       "       'LARCENY,PETIT OF MOTORCYCLE', 'OBSCENE MATERIAL - UNDER 17 YE',\n",
       "       'LARCENY,PETIT FROM COIN MACHIN', 'MENACING 1ST DEGREE (VICT NOT',\n",
       "       'FORGERY,PRESCRIPTION', 'INCOMPETENT PERSON,RECKLESSY ENDANGERING',\n",
       "       'ROBBERY,BAR/RESTAURANT', 'BRIBERY,PUBLIC ADMINISTRATION',\n",
       "       'SEXUAL MISCONDUCT,DEVIATE', 'BURGLARY,UNCLASSIFIED,NIGHT',\n",
       "       'ASSAULT SCHOOL SAFETY AGENT', 'CHECK,BAD',\n",
       "       'MISCHIEF, CRIMINAL 3&2, BY FIR', 'ARSON 2,3,4',\n",
       "       'ROBBERY,LICENSED MEDALLION CAB', 'CHILD,ALCOHOL SALE TO',\n",
       "       'TRESPASS 1,CRIMINAL', 'BRIBERY, POLICE OFFICER',\n",
       "       'LARCENY, GRAND OF MOPED', 'FALSE REPORT UNCLASSIFIED',\n",
       "       'UNAUTH. SALE OF TRANS. SERVICE', 'KIDNAPPING 1', 'KIDNAPPING 2',\n",
       "       'DRUG PARAPHERNALIA,   POSSESSE', 'STALKING COMMIT SEX OFFENSE',\n",
       "       'ROBBERY,BANK', 'FALSE ALARM FIRE', 'CONTROLLED SUBSTANCE,SALE 2',\n",
       "       'NY STATE LAWS,UNCLASSIFIED FEL', 'BURGLARS TOOLS,UNCLASSIFIED',\n",
       "       'EAVESDROPPING', 'PUBLIC ADMINISTRATION,UNCLASSI',\n",
       "       'MARIJUANA, POSSESSION 4 & 5', 'ROBBERY,ATM LOCATION',\n",
       "       'BAIL JUMPING 1 & 2', 'CUSTODIAL INTERFERENCE 1', 'ARSON 1',\n",
       "       'CRIMINAL DISPOSAL FIREARM 1 &', 'LARCENY,GRAND OF TRUCK',\n",
       "       'ROBBERY,ON BUS/ OR BUS DRIVER', 'ESCAPE 2,1', 'SODOMY 3',\n",
       "       'TAMPERING 3,2, CRIMINAL', 'TRAFFIC,UNCLASSIFIED MISDEMEAN',\n",
       "       'SODOMY 2', 'BURGLARY, TRUCK UNKNOWN TIME',\n",
       "       'COMPUTER UNAUTH. USE/TAMPER', 'IMPRISONMENT 1,UNLAWFUL',\n",
       "       'ABANDON ANIMAL', 'NY STATE LAWS,UNCLASSIFIED MIS',\n",
       "       'RECKLESS ENDANGERMENT OF PROPE', 'JOSTLING',\n",
       "       'THEFT,RELATED OFFENSES,UNCLASS', 'LARCENY,GRAND OF BOAT',\n",
       "       'IMPAIRED DRIVING,DRUG', 'CHILD ABANDONMENT',\n",
       "       'ASSAULT TRAFFIC AGENT', 'POSS METH MANUFACT MATERIAL',\n",
       "       'BURGLARY,UNCLASSIFIED,DAY', 'LURING A CHILD',\n",
       "       'PROMOTING A SEXUAL PERFORMANCE', 'POSTING ADVERTISEMENTS',\n",
       "       'SALE SCHOOL GROUNDS 4', 'POSSESSION HYPODERMIC INSTRUME',\n",
       "       'FORGERY-ILLEGAL POSSESSION,VEH', 'LARCENY, PETIT OF MOPED',\n",
       "       'ROBBERY,UNLICENSED FOR HIRE VEHICLE', 'BAIL JUMPING 3',\n",
       "       'FALSE REPORT 1,FIRE', 'USE OF A CHILD IN A SEXUAL PER',\n",
       "       'ROBBERY, PAYROLL', 'ROBBERY,PHARMACY',\n",
       "       'COMPUTER TAMPER/TRESSPASS', 'RECORDS,FALSIFY-TAMPER', 'TAX LAW',\n",
       "       'EXPOSURE OF A PERSON', 'CONTROLLED SUBSTANCE, SALE 4',\n",
       "       'IMITATION PISTOL/AIR RIFLE', 'FALSE REPORT BOMB',\n",
       "       'MONEY LAUNDERING 1 & 2', 'ROBBERY,HIJACKING',\n",
       "       'FIREARMS LICENSING LAWS', 'CONSPIRACY 4, 3', 'COERCION 1',\n",
       "       'ALCOHOLIC BEVERAGE CONTROL LAW', 'ASSEMBLY,UNLAWFUL',\n",
       "       'OBSCENITY 1', 'HOMICIDE,NEGLIGENT,UNCLASSIFIE',\n",
       "       'LARCENY,GRAND FROM PIER, UNATTENDED', 'MARIJUANA, POSSESSION',\n",
       "       'MARIJUANA, SALE 1, 2 & 3', 'DISORDERLY CONDUCT',\n",
       "       'DIS. CON.,AGGRAVATED', 'RIOT 2/INCITING',\n",
       "       'POSSES OR CARRY A KNIFE', 'MENACING,PEACE OFFICER',\n",
       "       'CAUSE SPI/KILL ANIMAL', 'ALCOHOLIC BEVERAGES,PUBLIC CON',\n",
       "       'SUPP. ACT TERR 2ND', 'NEGLECT/POISON ANIMAL', 'RECKLESS DRIVING',\n",
       "       'GAMBLING 2,PROMOTING,UNCLASSIF', 'ROBBERY,OF TRUCK DRIVER',\n",
       "       'SEX TRAFFICKING', 'PROSTITUTION 3, PROMOTING UNDE',\n",
       "       'CONSPIRACY 2, 1', 'PUBLIC SAFETY,UNCLASSIFIED MIS',\n",
       "       'INCOMPETENT PERSON,KNOWINGLY ENDANGERING',\n",
       "       'CONTROLLED SUBSTANCE,POSSESS.-', 'GAMBLING, DEVICE, POSSESSION',\n",
       "       'COERCION 2', 'ROBBERY,CHECK CASHING BUSINESS',\n",
       "       'FIREWORKS, POSSESS/USE', 'FIREWORKS, SALE',\n",
       "       'STOLEN PROP-MOTOR VEHICLE 3RD,', 'OBSCENITY, PERFORMANCE 3',\n",
       "       'VEHICULAR ASSAULT (INTOX DRIVE', 'CONSPIRACY 6, 5',\n",
       "       'UNLAWFUL POSS. WEAPON UPON SCH', 'PROSTITUTION, PATRONIZING 4, 3',\n",
       "       'THEFT OF SERVICES- CABLE TV SE', 'FACILITATION 4, CRIMINAL',\n",
       "       'OBSCENITY, MATERIAL 3', 'WOUNDS,REPORTING OF',\n",
       "       'NY STATE LAWS,UNCLASSIFIED VIO',\n",
       "       'DISSEMINATING A FALSE SEX OFFEND',\n",
       "       'PROSTITUTION 3,PROMOTING BUSIN', 'TRAFFIC,UNCLASSIFIED INFRACTIO',\n",
       "       'RADIO DEVICES,UNLAWFUL POSSESS', 'MATERIAL              OFFENSIV',\n",
       "       'LOITERING,GAMBLING,OTHER', 'INAPPROPIATE SHELTER DOG LEFT',\n",
       "       'ROBBERY,LIQUOR STORE', 'COURSE OF SEXUAL CONDUCT AGAIN', 'RIOT 1',\n",
       "       'TERRORISM PROVIDE SUPPORT', 'BRIBERY,COMMERCIAL',\n",
       "       'GENERAL BUSINESS LAW / UNCLASSIFIED', 'LARCENY,PETIT OF AUTO',\n",
       "       'HOMICIDE, NEGLIGENT, VEHICLE,', 'MISCHIEF 1,CRIMINAL,EXPLOSIVE',\n",
       "       'GAMBLING 1,PROMOTING,BOOKMAKIN', 'ESCAPE 3',\n",
       "       'END WELFARE VULNERABLE ELDERLY PERSON', 'INCEST 3',\n",
       "       'LARCENY,PETIT FROM BOAT', 'CONFINING ANIMAL IN VEHICLE/SHELTER',\n",
       "       'SALE SCHOOL GROUNDS', 'NUISANCE,CRIMINAL,UNCLASSIFIED',\n",
       "       'TAMPERING WITH A WITNESS', 'BRIBERY,FRAUD',\n",
       "       'LARCENY,GRAND BY FALSE PROMISE', 'BURGLARY,UNKNOWN TIME',\n",
       "       'PUBLIC HEALTH LAW,UNCLASSIFIED', 'PARKR&R,UNCLASSIFIED VIOLATION',\n",
       "       'STOLEN PROPERTY 2,POSSESSION B', 'PERJURY 3,ETC.',\n",
       "       'EDUCATION LAW,UNCLASSIFIED', 'LARCENY,PETIT FROM PARKING MET',\n",
       "       'BIGAMY', 'MANUFACTURE UNAUTHORIZED RECOR', 'PROSTITUTION',\n",
       "       'PERJURY 2,1,ETC', 'LARCENY,GRAND FROM BOAT, UNATTENDED',\n",
       "       'APPEARANCE TICKET FAIL TO RESP', 'SEX CRIMES',\n",
       "       'CIGARETTE,NO TAX STAMP,POSSESS', 'GRAND LARCENY-CHECK FROM MAILB',\n",
       "       'NOISE,UNECESSARY', 'CREDIT CARD,UNLAWFUL USE OF',\n",
       "       'HEALTHCARE/RENT.REG.', 'LARCENY,PETIT OF BOAT',\n",
       "       'LARCENY,GRAND BY CREDIT CARD COMPROMISE-UNAUTHORIZE PURCHASE',\n",
       "       'LABOR LAW,EMPLOYING CHILDREN', 'A.B.C.,FALSE PROOF OF AGE',\n",
       "       'CHILD,OFFENSES AGAINST,UNCLASS', 'BUILDING MATERIAL',\n",
       "       'N.Y.C. TRANSIT AUTH. R&R', 'SALE OF UNAUTHORIZED RECORDING',\n",
       "       'DOG STEALING', 'LARCENY, PETIT OF AUTO - ATTEM',\n",
       "       'HEALTH CODE,UNCLASSIFIED MISDE', 'GENERAL BUSINESS LAW,TICKET SP',\n",
       "       'LARCENY,PETIT FROM PIER', 'ABSCONDING FROM WORK RELEASE 2',\n",
       "       'ABORTION 1', 'LARCENY,GRAND FROM COIN MACHIN',\n",
       "       'PARK R&R,GAMBLING', 'PROSTITUTION 4,PROMOTING&SECUR',\n",
       "       'ATTEND/SPECTATOR ANIMAL FIGHTING', 'INCEST',\n",
       "       'SALES OF PRESCRIPTION', 'PROSTITUTION 2, COMPULSORY',\n",
       "       'ROBBERY,DOCTOR/DENTIST OFFICE', 'GRAFFITI (ADMINISTRATIVE CODE-',\n",
       "       'PEDDLING,UNLAWFUL', 'LOITERING,UNCLASSIFIED',\n",
       "       'LOITERING TO PROMOTE PROSTITUT', 'UNDER THE INFLUENCE OF DRUGS',\n",
       "       'SOLICITATION 5,CRIMINAL', 'FACILITATION 3,2,1, CRIMINAL',\n",
       "       'LARCENY,GRAND FROM PARKING MET', 'ENTERPRISE CORRUPTION',\n",
       "       'EDUCATION LAW', 'PLACE FALSE BOMB',\n",
       "       'GAMBLING 2, PROMOTING, BOOKMAK',\n",
       "       'BREED/TRAIN/HOST ANIMAL FIGHTING',\n",
       "       'POSSESS PARAPHERNALIA/ANIMAL FIGHTING', 'HEALTH CODE,VIOLATION',\n",
       "       'LOITERING 1ST DEGREE FOR DRUG', 'GAMBLING 1,PROMOTING,POLICY',\n",
       "       'LOITERING,DEVIATE SEX', 'PROSTITUTION 2, UNDER 16',\n",
       "       'PROMOTING SUICIDE ATTEMPT', 'PUBLIC HEALTH LAW,GLUE,UNLAWFU',\n",
       "       'LOITERING FOR PROSTITUTION OR', 'FIREWORKS',\n",
       "       'HOMICIDE,NEGLIGENT,VEHICLE', 'WEAPONS,PROHIBITED USE IMITATI',\n",
       "       'WEAPONS,MFR,TRANSPORT,ETC.', 'NUISANCE, CRIMINAL',\n",
       "       'CHILD,LICENSED PREMISES', 'PRIVACY,OFFENSES AGAINST,UNCLA',\n",
       "       'USE CHILD TO COMMIT CONT SUB OFF',\n",
       "       'GAMBLING 2, PROMOTING, POLICY-', 'DRUG, INJECTION OF',\n",
       "       'GYPSY CAB', 'WEAPONS,PROHIBITED USE',\n",
       "       'PROSTITUTION, PATRONIZING 2, 1', 'SOLICITATION 4, CRIMINAL',\n",
       "       'ABORTION 2, 1, SELF', 'FORTUNE TELLING', 'WEAPONS DISPOSITION OF',\n",
       "       'LARCENY,PETIT OF TRUCK', 'UNLAWFUL SALE SYNTHETIC MARIJUANA',\n",
       "       'SOLICITATION 3,2,1, CRIMINAL', 'LABOR TRAFFICKING',\n",
       "       'AIRPOLLUTION', 'AGGRAVATED GRAND LARCENY OF ATM',\n",
       "       'POSSESSION ANTI-SECURITY ITEM', 'EDUCATION LAW, TRUANCY',\n",
       "       'AIR POLLUTION-MOTOR VEH (ADM C', 'FIREWORKS PREV CONV 5 YEARS',\n",
       "       'PROSTITUTION 1, UNDER 11', 'NAVIGATION LAW',\n",
       "       'PROSTITUTION,PERMITTING', 'USURY,CRIMINAL', 'LOITERING,SCHOOL',\n",
       "       'FAC. SEXUAL OFFENSE W/CONTROLL', 'ENVIRONMENTAL CONTROL BOARD',\n",
       "       'MARRIAGE,OFFENSES AGAINST,UNCL', 'SODOMY,CONSENSUAL',\n",
       "       'SMOKING TRANSPORTATION FACILIT', 'ABORTIONAL ARTICLES,ISSUING',\n",
       "       'EDUCATION LAW,STREET TRADE', 'HIND PROSEC. TERR 2',\n",
       "       'PUBLIC HEALTH LAW,GLUE,INHALAT', 'ANARCHY,CRIMINAL'], dtype=object)"
      ]
     },
     "execution_count": 30,
     "metadata": {},
     "output_type": "execute_result"
    }
   ],
   "source": [
    "df['PD_DESC'].unique()"
   ]
  },
  {
   "cell_type": "code",
   "execution_count": 24,
   "metadata": {
    "pycharm": {
     "name": "#%%\n"
    }
   },
   "outputs": [
    {
     "data": {
      "text/plain": [
       "array(['N.Y. POLICE DEPT', 'N.Y. STATE POLICE', 'OTHER',\n",
       "       'U.S. PARK POLICE', 'N.Y. HOUSING POLICE', 'N.Y. TRANSIT POLICE',\n",
       "       'PORT AUTHORITY', 'HEALTH & HOSP CORP', 'TRI-BORO BRDG TUNNL',\n",
       "       'NYC PARKS', 'NEW YORK CITY SHERIFF OFFICE', 'LONG ISLAND RAILRD',\n",
       "       'CONRAIL', 'N.Y. STATE PARKS', 'DEPT OF CORRECTIONS',\n",
       "       'NYS DEPT TAX AND FINANCE', 'METRO NORTH',\n",
       "       'FIRE DEPT (FIRE MARSHAL)', 'POLICE DEPT NYC', 'AMTRACK',\n",
       "       'NYC DEPT ENVIRONMENTAL PROTECTION', 'STATN IS RAPID TRANS',\n",
       "       'SEA GATE POLICE DEPT', 'NYS DEPT ENVIRONMENTAL CONSERVATION',\n",
       "       'DISTRICT ATTORNEY OFFICE'], dtype=object)"
      ]
     },
     "execution_count": 24,
     "metadata": {},
     "output_type": "execute_result"
    }
   ],
   "source": [
    "df['JURIS_DESC'].unique()"
   ]
  },
  {
   "cell_type": "code",
   "execution_count": null,
   "metadata": {
    "pycharm": {
     "name": "#%%\n"
    }
   },
   "outputs": [],
   "source": []
  },
  {
   "cell_type": "code",
   "execution_count": 23,
   "metadata": {
    "pycharm": {
     "name": "#%%\n"
    }
   },
   "outputs": [
    {
     "data": {
      "text/plain": [
       "array(['VIOLATION', 'MISDEMEANOR', 'FELONY'], dtype=object)"
      ]
     },
     "execution_count": 23,
     "metadata": {},
     "output_type": "execute_result"
    }
   ],
   "source": [
    "df['LAW_CAT_CD'].unique()"
   ]
  },
  {
   "cell_type": "code",
   "execution_count": 22,
   "metadata": {
    "pycharm": {
     "name": "#%%\n"
    }
   },
   "outputs": [
    {
     "data": {
      "text/plain": [
       "array([578, 341, 113, 104, 118, 106, 109, 344, 351, 340, 361, 114, 348,\n",
       "       233, 112, 107, 105, 126, 111, 117, 110, 121, 365, 347, 359, 236,\n",
       "       232, 355, 353, 235, 116, 358, 675, 352, 238, 343, 364, 678, 342,\n",
       "       345, 124, 125, 231, 230, 120, 360, 346, 103, 572, 349, 350, 115,\n",
       "       363, 354, 455, 356, 677, 881, 571, 102, 122, 237, 119, 366, 123,\n",
       "       234, 672, 577, 685, 676, 460, 357, 362, 101], dtype=int64)"
      ]
     },
     "execution_count": 22,
     "metadata": {},
     "output_type": "execute_result"
    }
   ],
   "source": [
    "df['KY_CD'].unique()"
   ]
  },
  {
   "cell_type": "code",
   "execution_count": 63,
   "metadata": {
    "pycharm": {
     "name": "#%%\n"
    }
   },
   "outputs": [
    {
     "name": "stdout",
     "output_type": "stream",
     "text": [
      "Index(['CMPLNT_NUM', 'CMPLNT_FR_DT', 'CMPLNT_FR_TM', 'BORO_NM', 'Latitude',\n",
      "       'Longitude', 'Block', 'bctcb2020', 'h3geo', 'ADDR_PCT_CD__1.0',\n",
      "       ...\n",
      "       'JURIS_DESC_NYS DEPT ENVIRONMENTAL CONSERVATION',\n",
      "       'JURIS_DESC_NYS DEPT TAX AND FINANCE', 'JURIS_DESC_OTHER',\n",
      "       'JURIS_DESC_POLICE DEPT NYC', 'JURIS_DESC_PORT AUTHORITY',\n",
      "       'JURIS_DESC_SEA GATE POLICE DEPT', 'JURIS_DESC_STATN IS RAPID TRANS',\n",
      "       'JURIS_DESC_TRI-BORO BRDG TUNNL', 'JURIS_DESC_U.S. PARK POLICE',\n",
      "       'CRIME_COMPLETED'],\n",
      "      dtype='object', length=189)\n"
     ]
    }
   ],
   "source": [
    "print(df.columns)"
   ]
  },
  {
   "cell_type": "code",
   "execution_count": 35,
   "metadata": {
    "pycharm": {
     "name": "#%%\n"
    }
   },
   "outputs": [
    {
     "data": {
      "text/plain": [
       "array([109., 101., 108., 104., 107., 105., 106., 114., 103., 113., 110.,\n",
       "       111., 102., 100., 112., 115.,  70.,  77.,  25., 122.,  40.,  19.,\n",
       "        13.,  45.,  75.,  90., 123.,  88.,  73.,  20.,  24.,  23.,   5.,\n",
       "        83.,   9.,  34.,  63.,   6.,  41.,   1., 121.,  71.,  84.,  43.,\n",
       "        48.,  14.,  68.,  46.,   7.,  18., 120.,  44.,  66.,  72.,  49.,\n",
       "        17.,  10.,  61.,  26.,  30.,  94.,  79.,  60.,  62.,  67.,  78.,\n",
       "        76.,  69.,  81.,  50.,  22.,  28.,  47.,  32.,  33.,  52.,  42.])"
      ]
     },
     "execution_count": 35,
     "metadata": {},
     "output_type": "execute_result"
    }
   ],
   "source": [
    "df['ADDR_PCT_CD'].unique()"
   ]
  },
  {
   "cell_type": "code",
   "execution_count": 58,
   "metadata": {
    "pycharm": {
     "name": "#%%\n"
    }
   },
   "outputs": [],
   "source": [
    "df.to_csv('./Data/NYPDcleanupfefinal.csv', index=False)"
   ]
  },
  {
   "cell_type": "code",
   "execution_count": null,
   "metadata": {
    "pycharm": {
     "name": "#%%\n"
    }
   },
   "outputs": [],
   "source": [
    "# '''Field Name Description\n",
    "# CMPLNT_NUM Randomly generated persistent ID for each complaint\n",
    "# CMPLNT_FR_DT Exact date of occurrence for the reported event (or starting\n",
    "#     date of occurrence, if CMPLNT_TO_DT exists)\n",
    "# CMPLNT_FR_TM Exact time of occurrence for the reported event (or starting\n",
    "#     time of occurrence, if CMPLNT_TO_TM exists)\n",
    "# CMPLNT_TO_DT Ending date of occurrence for the reported event, if exact\n",
    "#     time of occurrence is unknown\n",
    "# CMPLNT_TO_TM Ending time of occurrence for the reported event, if exact\n",
    "#     time of occurrence is unknown\n",
    "# RPT_DT Date event was reported to police\n",
    "# KY_CD Three digit offense classification code\n",
    "# OFNS_DESC Description of offense corresponding with key code\n",
    "# PD_CD Three digit internal classification code (more granular than\n",
    "#     Key Code)\n",
    "# PD_DESC Description of internal classification corresponding with PD\n",
    "# code (more granular than Offense Description)\n",
    "# CRM_ATPT_CPTD_CD Indicator of whether crime was successfully completed or\n",
    "# attempted, but failed or was interrupted prematurely\n",
    "# LAW_CAT_CD Level of offense: felony, misdemeanor, violation\n",
    "# JURIS_DESC\n",
    "# Jurisdiction responsible for incident. Either internal, like\n",
    "# Police, Transit, and Housing; or external, like Correction,\n",
    "# Port Authority, etc.\n",
    "# BORO_NM The name of the borough in which the incident occurred\n",
    "# ADDR_PCT_CD The precinct in which the incident occurred\n",
    "# LOC_OF_OCCUR_DESC Specific location of occurrence in or around the premises;\n",
    "# inside, opposite of, front of, rear of\n",
    "# PREM_TYP_DESC Specific description of premises; grocery store, residence,\n",
    "# street, etc.\n",
    "# PARKS_NM Name of NYC park, playground or greenspace of\n",
    "# occurrence, if applicable (state parks are not included)\n",
    "# HADEVELOPT Name of NYCHA housing development of occurrence, if\n",
    "# applicable\n",
    "# X_COORD_CD X-coordinate for New York State Plane Coordinate System,\n",
    "# Long Island Zone, NAD 83, units feet (FIPS 3104)\n",
    "# Y_COORD_CD Y-coordinate for New York State Plane Coordinate System,\n",
    "# Long Island Zone, NAD 83, units feet (FIPS 3104)\n",
    "# Latitude Latitude coordinate for Global Coordinate System, WGS\n",
    "# 1984, decimal degrees (EPSG 4326)\n",
    "# Longitude Longitude coordinate for Global Coordinate System, WGS\n",
    "# 1984, decimal degrees (EPSG 4326)'''"
   ]
  }
 ],
 "metadata": {
  "kernelspec": {
   "display_name": "Python 3.8.13 ('NYC-Env')",
   "language": "python",
   "name": "python3"
  },
  "language_info": {
   "codemirror_mode": {
    "name": "ipython",
    "version": 3
   },
   "file_extension": ".py",
   "mimetype": "text/x-python",
   "name": "python",
   "nbconvert_exporter": "python",
   "pygments_lexer": "ipython3",
   "version": "3.8.13"
  },
  "vscode": {
   "interpreter": {
    "hash": "5e8adec8d7e75a3940ef0af52ab0b1cb0b7aefffc1e62d4ec9a465213de8efd4"
   }
  }
 },
 "nbformat": 4,
 "nbformat_minor": 2
}
